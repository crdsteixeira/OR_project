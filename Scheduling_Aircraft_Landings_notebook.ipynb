{
  "cells": [
    {
      "cell_type": "markdown",
      "metadata": {
        "id": "view-in-github",
        "colab_type": "text"
      },
      "source": [
        "<a href=\"https://colab.research.google.com/github/crdsteixeira/OR_project/blob/main/Scheduling_Aircraft_Landings_notebook.ipynb\" target=\"_parent\"><img src=\"https://colab.research.google.com/assets/colab-badge.svg\" alt=\"Open In Colab\"/></a>"
      ]
    },
    {
      "cell_type": "markdown",
      "id": "c608bff7",
      "metadata": {
        "id": "c608bff7"
      },
      "source": [
        "# Download the library"
      ]
    },
    {
      "cell_type": "code",
      "execution_count": 1,
      "id": "614988a1",
      "metadata": {
        "colab": {
          "base_uri": "https://localhost:8080/"
        },
        "id": "614988a1",
        "outputId": "add16271-81c0-4c3c-8094-261cd39727f1"
      },
      "outputs": [
        {
          "output_type": "stream",
          "name": "stdout",
          "text": [
            "Looking in indexes: https://pypi.org/simple, https://us-python.pkg.dev/colab-wheels/public/simple/\n",
            "Collecting docplex\n",
            "  Downloading docplex-2.24.232.tar.gz (640 kB)\n",
            "\u001b[K     |████████████████████████████████| 640 kB 4.0 MB/s \n",
            "\u001b[?25hRequirement already satisfied: six in /usr/local/lib/python3.8/dist-packages (from docplex) (1.15.0)\n",
            "Building wheels for collected packages: docplex\n",
            "  Building wheel for docplex (setup.py) ... \u001b[?25l\u001b[?25hdone\n",
            "  Created wheel for docplex: filename=docplex-2.24.232-py3-none-any.whl size=682306 sha256=76f1a6cf8c7f12d542147865dc5b68807275ddc85900832447cef43be5b4a799\n",
            "  Stored in directory: /root/.cache/pip/wheels/cd/84/5d/b9c307d9cf361c49d41ddea36761e226bba3afdfd038673dcd\n",
            "Successfully built docplex\n",
            "Installing collected packages: docplex\n",
            "Successfully installed docplex-2.24.232\n",
            "Looking in indexes: https://pypi.org/simple, https://us-python.pkg.dev/colab-wheels/public/simple/\n",
            "Collecting cplex\n",
            "  Downloading cplex-22.1.0.0-cp38-cp38-manylinux1_x86_64.whl (43.3 MB)\n",
            "\u001b[K     |████████████████████████████████| 43.3 MB 1.7 MB/s \n",
            "\u001b[?25hInstalling collected packages: cplex\n",
            "Successfully installed cplex-22.1.0.0\n"
          ]
        }
      ],
      "source": [
        "!pip install docplex\n",
        "!pip install cplex"
      ]
    },
    {
      "cell_type": "code",
      "execution_count": 2,
      "id": "dc10a6ec",
      "metadata": {
        "id": "dc10a6ec"
      },
      "outputs": [],
      "source": [
        "from docplex.cp.model import *\n",
        "import numpy as np"
      ]
    },
    {
      "cell_type": "markdown",
      "id": "e25ded87",
      "metadata": {
        "id": "e25ded87"
      },
      "source": [
        "# Info"
      ]
    },
    {
      "cell_type": "markdown",
      "id": "0686b9ff",
      "metadata": {
        "id": "0686b9ff"
      },
      "source": [
        "The format of these data files is:\n",
        "number of planes (p), freeze time\n",
        "for each plane i (i=1,...,p):\n",
        "   - appearance time, \n",
        "   - earliest landing time, \n",
        "   - target landing time,\n",
        "   - latest landing time, \n",
        "   - penalty cost per unit of time for landing before target, \n",
        "   - penalty cost per unit of time for landing after target\n",
        "\n",
        "for each plane j (j=1,...p): separation time required after \n",
        "                                i lands before j can land\n"
      ]
    },
    {
      "cell_type": "markdown",
      "id": "ca22e6a1",
      "metadata": {
        "id": "ca22e6a1"
      },
      "source": [
        "### Sigle runway definitions and variables\n",
        "\n",
        "![image.png](attachment:image.png)"
      ]
    },
    {
      "cell_type": "markdown",
      "id": "1238e2e4",
      "metadata": {
        "id": "1238e2e4"
      },
      "source": [
        "### Multirunway defintions and variables \n",
        "\n",
        "![image.png](attachment:image.png)"
      ]
    },
    {
      "cell_type": "markdown",
      "id": "e2edc33f",
      "metadata": {
        "id": "e2edc33f"
      },
      "source": [
        "## Get data"
      ]
    },
    {
      "cell_type": "code",
      "execution_count": null,
      "id": "9d5004dd",
      "metadata": {
        "id": "9d5004dd"
      },
      "outputs": [],
      "source": [
        "def read_datafiles(file):\n",
        "    with open(file, 'r') as data:\n",
        "        data_lines = data.readlines()\n",
        "        number_planes = int(data_lines[0].split()[0])\n",
        "        freeze_time =  int(data_lines[0].split()[1])\n",
        "        mixed_data = [line.split() for line in data_lines[1:]]\n",
        "        \n",
        "        flight_details = np.empty([0,6],dtype=float)\n",
        "        separation_time = np.empty([0,number_planes],dtype=float)\n",
        "        \n",
        "        flag = 0\n",
        "       \n",
        "        for element in mixed_data:\n",
        "            if flag == 0: # flight details\n",
        "                flight_details = np.vstack([flight_details, np.array(element)])\n",
        "                flag = 1\n",
        "                element_final = []\n",
        "            else:  # separation_times\n",
        "                element_final.extend(element)\n",
        "                if len(element_final) == number_planes:\n",
        "                    separation_time = np.vstack([separation_time, np.array(element_final)])\n",
        "                    flag = 0\n",
        "                \n",
        "        print(f\" number planes: {number_planes}\")\n",
        "        print(f\" freeze time: {freeze_time}\")\n",
        "        print(f\" mixed data: {mixed_data}\")\n",
        "        print(f\" flight details: {flight_details}\")\n",
        "        print(f\" separation time: {separation_time}\")\n",
        "    \n",
        "    return number_planes, freeze_time, flight_details, separation_time\n"
      ]
    },
    {
      "cell_type": "code",
      "execution_count": null,
      "id": "ec59b0ee",
      "metadata": {
        "id": "ec59b0ee",
        "outputId": "0306fbbc-0f13-4f69-ff21-b8636e871a76"
      },
      "outputs": [
        {
          "name": "stdout",
          "output_type": "stream",
          "text": [
            " number planes: 10\n",
            " freeze time: 10\n",
            " mixed data: [['54', '129', '155', '559', '10.00', '10.00'], ['99999', '3', '15', '15', '15', '15', '15', '15'], ['15', '15'], ['120', '195', '258', '744', '10.00', '10.00'], ['3', '99999', '15', '15', '15', '15', '15', '15'], ['15', '15'], ['14', '89', '98', '510', '30.00', '30.00'], ['15', '15', '99999', '8', '8', '8', '8', '8'], ['8', '8'], ['21', '96', '106', '521', '30.00', '30.00'], ['15', '15', '8', '99999', '8', '8', '8', '8'], ['8', '8'], ['35', '110', '123', '555', '30.00', '30.00'], ['15', '15', '8', '8', '99999', '8', '8', '8'], ['8', '8'], ['45', '120', '135', '576', '30.00', '30.00'], ['15', '15', '8', '8', '8', '99999', '8', '8'], ['8', '8'], ['49', '124', '138', '577', '30.00', '30.00'], ['15', '15', '8', '8', '8', '8', '99999', '8'], ['8', '8'], ['51', '126', '140', '573', '30.00', '30.00'], ['15', '15', '8', '8', '8', '8', '8', '99999'], ['8', '8'], ['60', '135', '150', '591', '30.00', '30.00'], ['15', '15', '8', '8', '8', '8', '8', '8'], ['99999', '8'], ['85', '160', '180', '657', '30.00', '30.00'], ['15', '15', '8', '8', '8', '8', '8', '8'], ['8', '99999']]\n",
            " flight details: [['54' '129' '155' '559' '10.00' '10.00']\n",
            " ['120' '195' '258' '744' '10.00' '10.00']\n",
            " ['14' '89' '98' '510' '30.00' '30.00']\n",
            " ['21' '96' '106' '521' '30.00' '30.00']\n",
            " ['35' '110' '123' '555' '30.00' '30.00']\n",
            " ['45' '120' '135' '576' '30.00' '30.00']\n",
            " ['49' '124' '138' '577' '30.00' '30.00']\n",
            " ['51' '126' '140' '573' '30.00' '30.00']\n",
            " ['60' '135' '150' '591' '30.00' '30.00']\n",
            " ['85' '160' '180' '657' '30.00' '30.00']]\n",
            " separation time: [['99999' '3' '15' '15' '15' '15' '15' '15' '15' '15']\n",
            " ['3' '99999' '15' '15' '15' '15' '15' '15' '15' '15']\n",
            " ['15' '15' '99999' '8' '8' '8' '8' '8' '8' '8']\n",
            " ['15' '15' '8' '99999' '8' '8' '8' '8' '8' '8']\n",
            " ['15' '15' '8' '8' '99999' '8' '8' '8' '8' '8']\n",
            " ['15' '15' '8' '8' '8' '99999' '8' '8' '8' '8']\n",
            " ['15' '15' '8' '8' '8' '8' '99999' '8' '8' '8']\n",
            " ['15' '15' '8' '8' '8' '8' '8' '99999' '8' '8']\n",
            " ['15' '15' '8' '8' '8' '8' '8' '8' '99999' '8']\n",
            " ['15' '15' '8' '8' '8' '8' '8' '8' '8' '99999']]\n"
          ]
        }
      ],
      "source": [
        "read_datafiles(\"./Data/airland1.txt\")"
      ]
    },
    {
      "cell_type": "markdown",
      "id": "85615aec",
      "metadata": {
        "id": "85615aec"
      },
      "source": [
        "# Set up the prescriptive model"
      ]
    },
    {
      "cell_type": "code",
      "execution_count": 3,
      "id": "133d9290",
      "metadata": {
        "id": "133d9290"
      },
      "outputs": [],
      "source": [
        "def MIP_model(fname,R):\n",
        "    from docplex.mp.model import Model\n",
        "    mdl = Model(\"Aircraft Landing - Multi Runaway Static Case\")\n",
        "    \n",
        "    P, freeze_time, flight_details, separation_time = read_datafiles(fname)\n",
        "\n",
        "    #Creating a CPLEX model\n",
        "    #model=Model(\"Aircraft Landing Schedule\")\n",
        "    \n",
        "    # The first column relates to the actual appearence time of the plane so will not be taken into account for our decision variables\n",
        "\n",
        "    E = flight_details[:,1]  #earliest landing time,\n",
        "    T = flight_details[:,2]  #target landing time,\n",
        "    L = flight_details[:,3]  #latest landing time,\n",
        "    g = flight_details[:,4]  #penalty cost per unit of time for landing before target,\n",
        "    h = flight_details[:,5]  #penalty cost per unit of time for landing after target\n",
        "    r = max(flight_details[:,3]) - min(flight_details[:,1]) #landing range time\n",
        "\n",
        "    \n",
        "    g_cost = [] #penalty cost per unit time for landing before the target time\n",
        "    h_cost = [] #penalty cost per unit time for landing after the target time\n",
        "    for i in np.arange(P):\n",
        "        g_cost[i] = flight_details[i,4]\n",
        "        h_cost[i] = flight_details[i,5]\n",
        "\n",
        "    delta_dict = []\n",
        "    z_dict = []\n",
        "    S_dict = [] # the required separation time (>= 0) between plane i landing and plane j landing \n",
        "    ij = []\n",
        "    for i in np.arange(P):\n",
        "        for j in np.arange(P):\n",
        "          if flight_details[i,0] < flight_details[j,0]:\n",
        "            delta_dict[i,j] = 1 #aqui os gajos dizem que todos os avioes j chegam antes do i mas isso nao faz muito sentido, temos de fazer um check do appearence time ( foi o que tentei fazer)\n",
        "          else:\n",
        "            delta_dict[i,j] = 0\n",
        "\n",
        "          z_dict[i,j] = 0\n",
        "          S_dict[i,j] = separation_time[i,j]\n",
        "          ij[i] = ((i,j))\n",
        "\n",
        "    ir = []\n",
        "    y_dict = {}\n",
        "    for i in np.arange(P):\n",
        "        for r in np.arange(R):\n",
        "            y_dict[i,r]=0        \n",
        "            ir.append((i,r))\n",
        "\n",
        "    #Defining decision variables\n",
        "\n",
        "    alpha   = mdl.continuous_var_dict(np.arange(P),lb=0,ub=mdl.infinity, name=\"alpha\") # how soon a plane lands before target time\n",
        "    beta    = mdl.continuous_var_dict(np.arange(P),lb=0,ub=mdl.infinity, name=\"beta\") # how soon a plane lands after target time\n",
        "    x       = mdl.continuous_var_dict(np.arange(P),lb=0,ub=mdl.infinity, name=\"x\") # landing time for a plane\n",
        "    delta   = mdl.binary_var_dict(ij,lb=0,ub=1, name=\"delta\") # binary variable: 1 if plane i lands before plane j, 0 elsewhere\n",
        "    y       = mdl.binary_var_dict(ir,lb=0,ub=1, name=\"y\") # NAO SEI O QUE É\n",
        "    z       = mdl.binary_var_dict(ij,lb=0,ub=1, name=\"z\") # NAO SEI O QUE É\n",
        "\n",
        "\n",
        "\n",
        "    #Adding constraints\n",
        "    mdl.add_constraints(x[i]>=E[i-1] for i in np.arange(P))                                                                       # Landing time of plane i must be later than the earliest landing time\n",
        "    mdl.add_constraints(x[i]<=L[i-1] for i in np.arange(P))                                                                       # Landing time of plane i must be earlier than the before latest landing time\n",
        "    mdl.add_constraints(delta[i,j]+delta[j,i]==1 for i in np.arange(P) for j in np.arange(P) if j!=i)                        # Either plane i lands before plane j or plane j lands before plane i, but not both\n",
        "    mdl.add_constraints(alpha[i]>=T[i-1]-x[i] for i in np.arange(P))                                                              # How soon plane i lands before T[i] must be larger than T[i] - x[i]\n",
        "    mdl.add_constraints(beta[i]>=x[i]-T[i-1] for i in np.arange(P))                                                               # How soon plane i lands after T[i] must be larger than x[i] - T[i]\n",
        "    mdl.add_constraints(x[j]-x[i]>=S_dict[i,j]*z[j,i] - (delta[j,i])*r for i in np.arange(P) for j in np.arange(P) if j!=i)   # Separation time between plane i and plane j must be respected\n",
        "    mdl.add_constraints(z[i,j]==z[j,i] for i in np.arange(P) for j in np.arange(P) if j>i)                                   # If plane i lands in the same runaway as plane j, plane j lands in the same runaway as plane i\n",
        "    mdl.add_constraints(mdl.sum(y[i,r] for r in np.arange(R))==1 for i in np.arange(P))                                       # Plane i can only land in 1 runaway\n",
        "    mdl.add_constraints(z[i,j]>=y[i,r]+y[j,r]-1 for r in np.arange(R) for j in np.arange(P) for i in np.arange(P) if j>i) # If there is any runaway r for which y[i,r]=y[j,r]=1 then z[i,j]=1. If z[i,j]=0 then the planes i and j cannot land on the same runaway \n",
        "\n",
        "\n",
        "    total_cost = mdl.sum(beta[i] * h[i-1] + alpha[i] * g[i-1] for i in np.arange(P))\n",
        "\n",
        "    mdl.minimize(total_cost)\n",
        "    \n",
        "    mdl.print_information()\n",
        "\n",
        "    msol = mdl.solve()\n",
        "    assert msol is not None, \"model can't solve\"\n",
        "\n",
        "    return mdl"
      ]
    },
    {
      "cell_type": "markdown",
      "id": "8622a000",
      "metadata": {
        "id": "8622a000"
      },
      "source": [
        "## Create CPO Model"
      ]
    },
    {
      "cell_type": "code",
      "execution_count": null,
      "id": "8c35fe1a",
      "metadata": {
        "id": "8c35fe1a"
      },
      "outputs": [],
      "source": []
    },
    {
      "cell_type": "markdown",
      "id": "6bddaec6",
      "metadata": {
        "id": "6bddaec6"
      },
      "source": [
        "## Define the decision variables"
      ]
    },
    {
      "cell_type": "code",
      "execution_count": null,
      "id": "8fe576f6",
      "metadata": {
        "id": "8fe576f6"
      },
      "outputs": [],
      "source": []
    },
    {
      "cell_type": "markdown",
      "id": "d67ad333",
      "metadata": {
        "id": "d67ad333"
      },
      "source": [
        "## Define constraints"
      ]
    },
    {
      "cell_type": "code",
      "execution_count": null,
      "id": "abe63524",
      "metadata": {
        "id": "abe63524"
      },
      "outputs": [],
      "source": []
    },
    {
      "cell_type": "markdown",
      "id": "65aa7cfd",
      "metadata": {
        "id": "65aa7cfd"
      },
      "source": [
        "## Define the objective"
      ]
    },
    {
      "cell_type": "code",
      "execution_count": null,
      "id": "c0920e20",
      "metadata": {
        "id": "c0920e20"
      },
      "outputs": [],
      "source": []
    },
    {
      "cell_type": "markdown",
      "id": "87d69afd",
      "metadata": {
        "id": "87d69afd"
      },
      "source": [
        "## Solve with decision optimization"
      ]
    }
  ],
  "metadata": {
    "kernelspec": {
      "display_name": "Python 3 (ipykernel)",
      "language": "python",
      "name": "python3"
    },
    "language_info": {
      "codemirror_mode": {
        "name": "ipython",
        "version": 3
      },
      "file_extension": ".py",
      "mimetype": "text/x-python",
      "name": "python",
      "nbconvert_exporter": "python",
      "pygments_lexer": "ipython3",
      "version": "3.9.12"
    },
    "colab": {
      "provenance": [],
      "include_colab_link": true
    }
  },
  "nbformat": 4,
  "nbformat_minor": 5
}
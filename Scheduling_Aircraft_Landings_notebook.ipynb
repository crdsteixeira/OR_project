{
  "cells": [
    {
      "cell_type": "markdown",
      "metadata": {
        "id": "view-in-github",
        "colab_type": "text"
      },
      "source": [
        "<a href=\"https://colab.research.google.com/github/crdsteixeira/OR_project/blob/main/Scheduling_Aircraft_Landings_notebook.ipynb\" target=\"_parent\"><img src=\"https://colab.research.google.com/assets/colab-badge.svg\" alt=\"Open In Colab\"/></a>"
      ]
    },
    {
      "cell_type": "markdown",
      "id": "c608bff7",
      "metadata": {
        "id": "c608bff7"
      },
      "source": [
        "# Download the library"
      ]
    },
    {
      "cell_type": "code",
      "execution_count": 1,
      "id": "614988a1",
      "metadata": {
        "colab": {
          "base_uri": "https://localhost:8080/"
        },
        "id": "614988a1",
        "outputId": "986cd89e-c1ec-44f4-ef94-de91b71b6fdd"
      },
      "outputs": [
        {
          "output_type": "stream",
          "name": "stdout",
          "text": [
            "Looking in indexes: https://pypi.org/simple, https://us-python.pkg.dev/colab-wheels/public/simple/\n",
            "Collecting docplex\n",
            "  Downloading docplex-2.24.232.tar.gz (640 kB)\n",
            "\u001b[2K     \u001b[90m━━━━━━━━━━━━━━━━━━━━━━━━━━━━━━━━━━━━━━\u001b[0m \u001b[32m640.2/640.2 KB\u001b[0m \u001b[31m14.4 MB/s\u001b[0m eta \u001b[36m0:00:00\u001b[0m\n",
            "\u001b[?25h  Preparing metadata (setup.py) ... \u001b[?25l\u001b[?25hdone\n",
            "Requirement already satisfied: six in /usr/local/lib/python3.8/dist-packages (from docplex) (1.15.0)\n",
            "Building wheels for collected packages: docplex\n",
            "  Building wheel for docplex (setup.py) ... \u001b[?25l\u001b[?25hdone\n",
            "  Created wheel for docplex: filename=docplex-2.24.232-py3-none-any.whl size=682306 sha256=d3d029b8ed6d420e386ff766d0ff0684be54bd4811c5b60b7120a569aa00c844\n",
            "  Stored in directory: /root/.cache/pip/wheels/cd/84/5d/b9c307d9cf361c49d41ddea36761e226bba3afdfd038673dcd\n",
            "Successfully built docplex\n",
            "Installing collected packages: docplex\n",
            "Successfully installed docplex-2.24.232\n",
            "Looking in indexes: https://pypi.org/simple, https://us-python.pkg.dev/colab-wheels/public/simple/\n",
            "Collecting cplex\n",
            "  Downloading cplex-22.1.0.0-cp38-cp38-manylinux1_x86_64.whl (43.3 MB)\n",
            "\u001b[2K     \u001b[90m━━━━━━━━━━━━━━━━━━━━━━━━━━━━━━━━━━━━━━━━\u001b[0m \u001b[32m43.3/43.3 MB\u001b[0m \u001b[31m20.6 MB/s\u001b[0m eta \u001b[36m0:00:00\u001b[0m\n",
            "\u001b[?25hInstalling collected packages: cplex\n",
            "Successfully installed cplex-22.1.0.0\n"
          ]
        }
      ],
      "source": [
        "!pip install docplex\n",
        "!pip install cplex"
      ]
    },
    {
      "cell_type": "code",
      "execution_count": 2,
      "id": "dc10a6ec",
      "metadata": {
        "id": "dc10a6ec"
      },
      "outputs": [],
      "source": [
        "from docplex.cp.model import *\n",
        "import numpy as np"
      ]
    },
    {
      "cell_type": "markdown",
      "id": "e25ded87",
      "metadata": {
        "id": "e25ded87"
      },
      "source": [
        "# Info"
      ]
    },
    {
      "cell_type": "markdown",
      "id": "0686b9ff",
      "metadata": {
        "id": "0686b9ff"
      },
      "source": [
        "The format of these data files is:\n",
        "number of planes (p), freeze time\n",
        "for each plane i (i=1,...,p):\n",
        "   - appearance time, \n",
        "   - earliest landing time, \n",
        "   - target landing time,\n",
        "   - latest landing time, \n",
        "   - penalty cost per unit of time for landing before target, \n",
        "   - penalty cost per unit of time for landing after target\n",
        "\n",
        "for each plane j (j=1,...p): separation time required after \n",
        "                                i lands before j can land\n"
      ]
    },
    {
      "cell_type": "markdown",
      "id": "ca22e6a1",
      "metadata": {
        "id": "ca22e6a1"
      },
      "source": [
        "### Sigle runway definitions and variables\n",
        "\n",
        "![image.png](https://github.com/crdsteixeira/OR_project/blob/main/Images/single_run.png?raw=1)\n"
      ]
    },
    {
      "cell_type": "markdown",
      "id": "1238e2e4",
      "metadata": {
        "id": "1238e2e4"
      },
      "source": [
        "### Multirunway defintions and variables \n",
        "\n",
        "![image.png](https://github.com/crdsteixeira/OR_project/blob/main/Images/multi_run.png?raw=1)"
      ]
    },
    {
      "cell_type": "markdown",
      "id": "e2edc33f",
      "metadata": {
        "id": "e2edc33f"
      },
      "source": [
        "## Get data"
      ]
    },
    {
      "cell_type": "code",
      "execution_count": 3,
      "id": "9d5004dd",
      "metadata": {
        "id": "9d5004dd"
      },
      "outputs": [],
      "source": [
        "def read_datafiles(file):\n",
        "    with open(file, 'r') as data:\n",
        "        data_lines = data.readlines()\n",
        "        number_planes = int(data_lines[0].split()[0])\n",
        "        freeze_time =  int(data_lines[0].split()[1])\n",
        "        mixed_data = [line.split() for line in data_lines[1:] if not line.isspace()]\n",
        "        mixed_data = [[(float(j)) for j in i] for i in mixed_data]\n",
        "        \n",
        "        flight_details = np.empty([0,6],dtype=float)\n",
        "        separation_time = np.empty([0,number_planes],dtype=float)\n",
        "        \n",
        "        flag = 0\n",
        "       \n",
        "        for element in mixed_data:\n",
        "            if flag == 0: # flight details\n",
        "                flight_details = np.vstack([flight_details, np.array(element)])\n",
        "                flag = 1\n",
        "                element_final = []\n",
        "            else:  # separation_times\n",
        "                element_final.extend(element)\n",
        "                if len(element_final) == number_planes:\n",
        "                    separation_time = np.vstack([separation_time, np.array(element_final)])\n",
        "                    flag = 0\n",
        "                \n",
        "        print(f\" number planes: {number_planes}\")\n",
        "        print(f\" freeze time: {freeze_time}\")\n",
        "        print(f\" mixed data: {mixed_data}\")\n",
        "        print(f\" flight details: {flight_details}\")\n",
        "        print(f\" separation time: {separation_time}\")\n",
        "    \n",
        "    return number_planes, freeze_time, flight_details, separation_time\n"
      ]
    },
    {
      "cell_type": "code",
      "execution_count": 4,
      "id": "ec59b0ee",
      "metadata": {
        "colab": {
          "base_uri": "https://localhost:8080/"
        },
        "id": "ec59b0ee",
        "outputId": "72ada879-4a32-41ac-f209-fbdd91846f68"
      },
      "outputs": [
        {
          "output_type": "stream",
          "name": "stdout",
          "text": [
            " number planes: 10\n",
            " freeze time: 10\n",
            " mixed data: [[54.0, 129.0, 155.0, 559.0, 10.0, 10.0], [99999.0, 3.0, 15.0, 15.0, 15.0, 15.0, 15.0, 15.0], [15.0, 15.0], [120.0, 195.0, 258.0, 744.0, 10.0, 10.0], [3.0, 99999.0, 15.0, 15.0, 15.0, 15.0, 15.0, 15.0], [15.0, 15.0], [14.0, 89.0, 98.0, 510.0, 30.0, 30.0], [15.0, 15.0, 99999.0, 8.0, 8.0, 8.0, 8.0, 8.0], [8.0, 8.0], [21.0, 96.0, 106.0, 521.0, 30.0, 30.0], [15.0, 15.0, 8.0, 99999.0, 8.0, 8.0, 8.0, 8.0], [8.0, 8.0], [35.0, 110.0, 123.0, 555.0, 30.0, 30.0], [15.0, 15.0, 8.0, 8.0, 99999.0, 8.0, 8.0, 8.0], [8.0, 8.0], [45.0, 120.0, 135.0, 576.0, 30.0, 30.0], [15.0, 15.0, 8.0, 8.0, 8.0, 99999.0, 8.0, 8.0], [8.0, 8.0], [49.0, 124.0, 138.0, 577.0, 30.0, 30.0], [15.0, 15.0, 8.0, 8.0, 8.0, 8.0, 99999.0, 8.0], [8.0, 8.0], [51.0, 126.0, 140.0, 573.0, 30.0, 30.0], [15.0, 15.0, 8.0, 8.0, 8.0, 8.0, 8.0, 99999.0], [8.0, 8.0], [60.0, 135.0, 150.0, 591.0, 30.0, 30.0], [15.0, 15.0, 8.0, 8.0, 8.0, 8.0, 8.0, 8.0], [99999.0, 8.0], [85.0, 160.0, 180.0, 657.0, 30.0, 30.0], [15.0, 15.0, 8.0, 8.0, 8.0, 8.0, 8.0, 8.0], [8.0, 99999.0]]\n",
            " flight details: [[ 54. 129. 155. 559.  10.  10.]\n",
            " [120. 195. 258. 744.  10.  10.]\n",
            " [ 14.  89.  98. 510.  30.  30.]\n",
            " [ 21.  96. 106. 521.  30.  30.]\n",
            " [ 35. 110. 123. 555.  30.  30.]\n",
            " [ 45. 120. 135. 576.  30.  30.]\n",
            " [ 49. 124. 138. 577.  30.  30.]\n",
            " [ 51. 126. 140. 573.  30.  30.]\n",
            " [ 60. 135. 150. 591.  30.  30.]\n",
            " [ 85. 160. 180. 657.  30.  30.]]\n",
            " separation time: [[9.9999e+04 3.0000e+00 1.5000e+01 1.5000e+01 1.5000e+01 1.5000e+01\n",
            "  1.5000e+01 1.5000e+01 1.5000e+01 1.5000e+01]\n",
            " [3.0000e+00 9.9999e+04 1.5000e+01 1.5000e+01 1.5000e+01 1.5000e+01\n",
            "  1.5000e+01 1.5000e+01 1.5000e+01 1.5000e+01]\n",
            " [1.5000e+01 1.5000e+01 9.9999e+04 8.0000e+00 8.0000e+00 8.0000e+00\n",
            "  8.0000e+00 8.0000e+00 8.0000e+00 8.0000e+00]\n",
            " [1.5000e+01 1.5000e+01 8.0000e+00 9.9999e+04 8.0000e+00 8.0000e+00\n",
            "  8.0000e+00 8.0000e+00 8.0000e+00 8.0000e+00]\n",
            " [1.5000e+01 1.5000e+01 8.0000e+00 8.0000e+00 9.9999e+04 8.0000e+00\n",
            "  8.0000e+00 8.0000e+00 8.0000e+00 8.0000e+00]\n",
            " [1.5000e+01 1.5000e+01 8.0000e+00 8.0000e+00 8.0000e+00 9.9999e+04\n",
            "  8.0000e+00 8.0000e+00 8.0000e+00 8.0000e+00]\n",
            " [1.5000e+01 1.5000e+01 8.0000e+00 8.0000e+00 8.0000e+00 8.0000e+00\n",
            "  9.9999e+04 8.0000e+00 8.0000e+00 8.0000e+00]\n",
            " [1.5000e+01 1.5000e+01 8.0000e+00 8.0000e+00 8.0000e+00 8.0000e+00\n",
            "  8.0000e+00 9.9999e+04 8.0000e+00 8.0000e+00]\n",
            " [1.5000e+01 1.5000e+01 8.0000e+00 8.0000e+00 8.0000e+00 8.0000e+00\n",
            "  8.0000e+00 8.0000e+00 9.9999e+04 8.0000e+00]\n",
            " [1.5000e+01 1.5000e+01 8.0000e+00 8.0000e+00 8.0000e+00 8.0000e+00\n",
            "  8.0000e+00 8.0000e+00 8.0000e+00 9.9999e+04]]\n"
          ]
        },
        {
          "output_type": "execute_result",
          "data": {
            "text/plain": [
              "(10, 10, array([[ 54., 129., 155., 559.,  10.,  10.],\n",
              "        [120., 195., 258., 744.,  10.,  10.],\n",
              "        [ 14.,  89.,  98., 510.,  30.,  30.],\n",
              "        [ 21.,  96., 106., 521.,  30.,  30.],\n",
              "        [ 35., 110., 123., 555.,  30.,  30.],\n",
              "        [ 45., 120., 135., 576.,  30.,  30.],\n",
              "        [ 49., 124., 138., 577.,  30.,  30.],\n",
              "        [ 51., 126., 140., 573.,  30.,  30.],\n",
              "        [ 60., 135., 150., 591.,  30.,  30.],\n",
              "        [ 85., 160., 180., 657.,  30.,  30.]]), array([[9.9999e+04, 3.0000e+00, 1.5000e+01, 1.5000e+01, 1.5000e+01,\n",
              "         1.5000e+01, 1.5000e+01, 1.5000e+01, 1.5000e+01, 1.5000e+01],\n",
              "        [3.0000e+00, 9.9999e+04, 1.5000e+01, 1.5000e+01, 1.5000e+01,\n",
              "         1.5000e+01, 1.5000e+01, 1.5000e+01, 1.5000e+01, 1.5000e+01],\n",
              "        [1.5000e+01, 1.5000e+01, 9.9999e+04, 8.0000e+00, 8.0000e+00,\n",
              "         8.0000e+00, 8.0000e+00, 8.0000e+00, 8.0000e+00, 8.0000e+00],\n",
              "        [1.5000e+01, 1.5000e+01, 8.0000e+00, 9.9999e+04, 8.0000e+00,\n",
              "         8.0000e+00, 8.0000e+00, 8.0000e+00, 8.0000e+00, 8.0000e+00],\n",
              "        [1.5000e+01, 1.5000e+01, 8.0000e+00, 8.0000e+00, 9.9999e+04,\n",
              "         8.0000e+00, 8.0000e+00, 8.0000e+00, 8.0000e+00, 8.0000e+00],\n",
              "        [1.5000e+01, 1.5000e+01, 8.0000e+00, 8.0000e+00, 8.0000e+00,\n",
              "         9.9999e+04, 8.0000e+00, 8.0000e+00, 8.0000e+00, 8.0000e+00],\n",
              "        [1.5000e+01, 1.5000e+01, 8.0000e+00, 8.0000e+00, 8.0000e+00,\n",
              "         8.0000e+00, 9.9999e+04, 8.0000e+00, 8.0000e+00, 8.0000e+00],\n",
              "        [1.5000e+01, 1.5000e+01, 8.0000e+00, 8.0000e+00, 8.0000e+00,\n",
              "         8.0000e+00, 8.0000e+00, 9.9999e+04, 8.0000e+00, 8.0000e+00],\n",
              "        [1.5000e+01, 1.5000e+01, 8.0000e+00, 8.0000e+00, 8.0000e+00,\n",
              "         8.0000e+00, 8.0000e+00, 8.0000e+00, 9.9999e+04, 8.0000e+00],\n",
              "        [1.5000e+01, 1.5000e+01, 8.0000e+00, 8.0000e+00, 8.0000e+00,\n",
              "         8.0000e+00, 8.0000e+00, 8.0000e+00, 8.0000e+00, 9.9999e+04]]))"
            ]
          },
          "metadata": {},
          "execution_count": 4
        }
      ],
      "source": [
        "read_datafiles(\"./airland1.txt\")"
      ]
    },
    {
      "cell_type": "markdown",
      "id": "85615aec",
      "metadata": {
        "id": "85615aec"
      },
      "source": [
        "# The MIP model"
      ]
    },
    {
      "cell_type": "code",
      "execution_count": 5,
      "id": "133d9290",
      "metadata": {
        "id": "133d9290"
      },
      "outputs": [],
      "source": [
        "def MIP_model(file_name,R):\n",
        "    from docplex.mp.model import Model\n",
        "    mdl = Model(\"Scheduling Aircraft Landing - Multi Runaway Static Case\")\n",
        "    \n",
        "    P, freeze_time, flight_details, separation_time = read_datafiles(file_name)\n",
        "    \n",
        "    # The first column relates to the actual appearence time of the plane so will not be taken into account for our decision variables\n",
        "\n",
        "    E = flight_details[:,1]  #earliest landing time,\n",
        "    T = flight_details[:,2]  #target landing time,\n",
        "    L = flight_details[:,3]  #latest landing time,\n",
        "    g = flight_details[:,4]  #penalty cost per unit of time for landing before target,\n",
        "    h = flight_details[:,5]  #penalty cost per unit of time for landing after target\n",
        "    range_LT = max(flight_details[:,3]) - min(flight_details[:,1]) #landing range time\n",
        "\n",
        "    ij = [(i,j) for i in np.arange(P) for j in np.arange(P)]\n",
        "    ir = [(i, r) for i in np.arange(P) for r in np.arange(R)]\n",
        "\n",
        "    # Creating the time spaces\n",
        "    W = []\n",
        "    V = []\n",
        "    U = []\n",
        "    for i in range(np.arange(P)):\n",
        "      for j in range(np.arange(P)):\n",
        "        if i != j:\n",
        "          min_range_i, min_range_j, max_range_i, max_range_j = E[i], E[j], L[i], L[j]\n",
        "          land_range_i = [min_range_i, max_range_i]\n",
        "          land_range_j = [min_range_j, max_range_j]\n",
        "\n",
        "          overlap = max(0, min(land_range_i[1], land_range_j[1]) - max(land_range_i[0], land_range_j[0])) #Check if landing intervals overlap\n",
        "\n",
        "          # To confirm if the separation time window is safe we should see if latest landing time of plane i plus the separation time  \n",
        "          # between plane i and j is lower and then the earliest landing time for plane j\n",
        "\n",
        "          # This way we are also confirming that i lands before j\n",
        "\n",
        "          if (overlap == 0) and ((L[i] + separation_time[i,j]) < E[j]): # confirm that the windows don't intersept and separation time is big enough\n",
        "              W.append((i,j))\n",
        "          else:\n",
        "            if (L[i] < E[j]): # windows intersept but we know that i lands before j\n",
        "              V.append((i,j))\n",
        "            else: \n",
        "              U.append((i,j)) # we don't know the order in which one lands\n",
        "        else: \n",
        "          continue\n",
        "    \n",
        "\n",
        "    # Defining decision variables\n",
        "\n",
        "    alpha   = mdl.continuous_var_dict(np.arange(P),lb=0,ub=mdl.infinity, name=\"alpha\") # how soon a plane lands before target time\n",
        "    beta    = mdl.continuous_var_dict(np.arange(P),lb=0,ub=mdl.infinity, name=\"beta\") # how soon a plane lands after target time\n",
        "    x       = mdl.continuous_var_dict(np.arange(P),lb=0,ub=mdl.infinity, name=\"x\") # landing time for a plane\n",
        "    sigma   = mdl.binary_var_dict(ij,lb=0,ub=1, name=\"sigma\") # binary variable: 1 if plane i lands before plane j, 0 elsewhere\n",
        "    y       = mdl.binary_var_dict(ir,lb=0,ub=1, name=\"y\") # 1 if plane i lands on runaway  r , 0 otherwise\n",
        "    z       = mdl.binary_var_dict(ij,lb=0,ub=1, name=\"z\") # 1 if planes i and  j land on the same runaway, 0 otherwise\n",
        "\n",
        "\n",
        "    # Adding constraints\n",
        "    \n",
        "    mdl.add_constraints(x[i]>=E[i] for i in np.arange(P)) # Const 1 - Landing time of plane i must be later than the earliest landing time\n",
        "    mdl.add_constraints(x[i]<=L[i] for i in np.arange(P)) # Const 1 - Landing time of plane i must be earlier than the before latest landing time\n",
        "    mdl.add_constraints(sigma[i,j]+sigma[j,i]==1 for i in np.arange(P) for j in np.arange(P) if j!=i)  # Const 2 - Plain i must land before plain j or plain j before plain i\n",
        "    mdl.add_constraints(alpha[i]>=T[i]-x[i] for i in np.arange(P)) # Const 14 - How soon plane i lands before T[i] must be larger than T[i] - x[i]\n",
        "    mdl.add_constraints(alpha[i]<=T[i]-E[i] for i in np.arange(P)) # Const 15 - How soon plane i lands before T[i] must be smaller than T[i] - E[i]\n",
        "    mdl.add_constraints(alpha[i]>= 0 for i in np.arange(P)) # Const 15 - How soon plane i lands before T[i] must be at least zero\n",
        "    mdl.add_constraints(beta[i]>=x[i]-T[i] for i in np.arange(P))  # Const 16 - How soon plane i lands after T[i] must be larger than x[i] - T[i]\n",
        "    mdl.add_constraints(beta[i]<=L[i]-T[i] for i in np.arange(P))  # Const 17 - How soon plane i lands after T[i] must be smaller than L[i] - T[i]\n",
        "    mdl.add_constraints(beta[i]>= 0 for i in np.arange(P))  # Const 17 - How soon plane i lands after T[i] must be at least zero\n",
        "    mdl.add_constraints(x[i]==T[i]-alpha[i]+beta[i] for i in np.arange(P))  # Const 18 - Landing time is equal to target time minus arriving early or plus arriving late\n",
        "   \n",
        "    mdl.add_constraints(mdl.sum(y[i,r] for r in np.arange(R))==1 for i in np.arange(P))     # Const 28 - Plane i can only land in 1 runaway\n",
        "    mdl.add_constraints(z[i,j]==z[j,i] for i in np.arange(P) for j in np.arange(P) if j>i)  # Const 29 - Symetry constraint: If plane i lands in the same runaway as plane j, plane j lands in the same runaway as plane i\n",
        "    mdl.add_constraints(z[i,j]>=y[i,r]+y[j,r]-1 for r in np.arange(R) for j in np.arange(P) for i in np.arange(P) if j>i) # Const 30 - If there is any runaway r for which y[i,r]=y[j,r]=1 then z[i,j]=1. If z[i,j]=0 then the planes i and j cannot land on the same runaway \n",
        "    \n",
        "    mdl.add_constraints(x[j]-x[i]>=separation_time[i,j]*z[j,i] - (sigma[j,i])*range_LT for i in np.arange(P) for j in np.arange(P) if j!=i)   # Const 12 - Separation time between plane i and plane j must be respected\n",
        "    # Const 31\n",
        "    # Const 33\n",
        "\n",
        "\n",
        "    cost_function = mdl.sum(beta[i] * h[i] + alpha[i] * g[i] for i in np.arange(P))\n",
        "\n",
        "    mdl.minimize(cost_function)\n",
        "    \n",
        "    mdl.print_information()\n",
        "\n",
        "    msol = mdl.solve()\n",
        "    assert msol is not None, \"model can't solve\"\n",
        "\n",
        "    return mdl"
      ]
    },
    {
      "cell_type": "code",
      "execution_count": 7,
      "id": "8c35fe1a",
      "metadata": {
        "colab": {
          "base_uri": "https://localhost:8080/"
        },
        "id": "8c35fe1a",
        "outputId": "af4190a9-b658-492a-e8d4-0a97ecff8c7c",
        "scrolled": false
      },
      "outputs": [
        {
          "output_type": "stream",
          "name": "stdout",
          "text": [
            " number planes: 10\n",
            " freeze time: 10\n",
            " mixed data: [[54.0, 129.0, 155.0, 559.0, 10.0, 10.0], [99999.0, 3.0, 15.0, 15.0, 15.0, 15.0, 15.0, 15.0], [15.0, 15.0], [120.0, 195.0, 258.0, 744.0, 10.0, 10.0], [3.0, 99999.0, 15.0, 15.0, 15.0, 15.0, 15.0, 15.0], [15.0, 15.0], [14.0, 89.0, 98.0, 510.0, 30.0, 30.0], [15.0, 15.0, 99999.0, 8.0, 8.0, 8.0, 8.0, 8.0], [8.0, 8.0], [21.0, 96.0, 106.0, 521.0, 30.0, 30.0], [15.0, 15.0, 8.0, 99999.0, 8.0, 8.0, 8.0, 8.0], [8.0, 8.0], [35.0, 110.0, 123.0, 555.0, 30.0, 30.0], [15.0, 15.0, 8.0, 8.0, 99999.0, 8.0, 8.0, 8.0], [8.0, 8.0], [45.0, 120.0, 135.0, 576.0, 30.0, 30.0], [15.0, 15.0, 8.0, 8.0, 8.0, 99999.0, 8.0, 8.0], [8.0, 8.0], [49.0, 124.0, 138.0, 577.0, 30.0, 30.0], [15.0, 15.0, 8.0, 8.0, 8.0, 8.0, 99999.0, 8.0], [8.0, 8.0], [51.0, 126.0, 140.0, 573.0, 30.0, 30.0], [15.0, 15.0, 8.0, 8.0, 8.0, 8.0, 8.0, 99999.0], [8.0, 8.0], [60.0, 135.0, 150.0, 591.0, 30.0, 30.0], [15.0, 15.0, 8.0, 8.0, 8.0, 8.0, 8.0, 8.0], [99999.0, 8.0], [85.0, 160.0, 180.0, 657.0, 30.0, 30.0], [15.0, 15.0, 8.0, 8.0, 8.0, 8.0, 8.0, 8.0], [8.0, 99999.0]]\n",
            " flight details: [[ 54. 129. 155. 559.  10.  10.]\n",
            " [120. 195. 258. 744.  10.  10.]\n",
            " [ 14.  89.  98. 510.  30.  30.]\n",
            " [ 21.  96. 106. 521.  30.  30.]\n",
            " [ 35. 110. 123. 555.  30.  30.]\n",
            " [ 45. 120. 135. 576.  30.  30.]\n",
            " [ 49. 124. 138. 577.  30.  30.]\n",
            " [ 51. 126. 140. 573.  30.  30.]\n",
            " [ 60. 135. 150. 591.  30.  30.]\n",
            " [ 85. 160. 180. 657.  30.  30.]]\n",
            " separation time: [[9.9999e+04 3.0000e+00 1.5000e+01 1.5000e+01 1.5000e+01 1.5000e+01\n",
            "  1.5000e+01 1.5000e+01 1.5000e+01 1.5000e+01]\n",
            " [3.0000e+00 9.9999e+04 1.5000e+01 1.5000e+01 1.5000e+01 1.5000e+01\n",
            "  1.5000e+01 1.5000e+01 1.5000e+01 1.5000e+01]\n",
            " [1.5000e+01 1.5000e+01 9.9999e+04 8.0000e+00 8.0000e+00 8.0000e+00\n",
            "  8.0000e+00 8.0000e+00 8.0000e+00 8.0000e+00]\n",
            " [1.5000e+01 1.5000e+01 8.0000e+00 9.9999e+04 8.0000e+00 8.0000e+00\n",
            "  8.0000e+00 8.0000e+00 8.0000e+00 8.0000e+00]\n",
            " [1.5000e+01 1.5000e+01 8.0000e+00 8.0000e+00 9.9999e+04 8.0000e+00\n",
            "  8.0000e+00 8.0000e+00 8.0000e+00 8.0000e+00]\n",
            " [1.5000e+01 1.5000e+01 8.0000e+00 8.0000e+00 8.0000e+00 9.9999e+04\n",
            "  8.0000e+00 8.0000e+00 8.0000e+00 8.0000e+00]\n",
            " [1.5000e+01 1.5000e+01 8.0000e+00 8.0000e+00 8.0000e+00 8.0000e+00\n",
            "  9.9999e+04 8.0000e+00 8.0000e+00 8.0000e+00]\n",
            " [1.5000e+01 1.5000e+01 8.0000e+00 8.0000e+00 8.0000e+00 8.0000e+00\n",
            "  8.0000e+00 9.9999e+04 8.0000e+00 8.0000e+00]\n",
            " [1.5000e+01 1.5000e+01 8.0000e+00 8.0000e+00 8.0000e+00 8.0000e+00\n",
            "  8.0000e+00 8.0000e+00 9.9999e+04 8.0000e+00]\n",
            " [1.5000e+01 1.5000e+01 8.0000e+00 8.0000e+00 8.0000e+00 8.0000e+00\n",
            "  8.0000e+00 8.0000e+00 8.0000e+00 9.9999e+04]]\n",
            "Model: Scheduling Aircraft Landing - Multi Runaway Static Case\n",
            " - number of variables: 250\n",
            "   - binary=220, integer=0, continuous=30\n",
            " - number of constraints: 415\n",
            "   - linear=415\n",
            " - parameters: defaults\n",
            " - objective: minimize\n",
            " - problem type is: MILP\n",
            "* model Scheduling Aircraft Landing - Multi Runaway Static Case solved with objective = 90.000\n",
            "objective: 90.000\n",
            "status: OPTIMAL_SOLUTION(2)\n",
            "  alpha_5=3.000\n",
            "  x_0=155.000\n",
            "  x_1=258.000\n",
            "  x_2=98.000\n",
            "  x_3=106.000\n",
            "  x_4=123.000\n",
            "  x_5=132.000\n",
            "  x_6=138.000\n",
            "  x_7=140.000\n",
            "  x_8=150.000\n",
            "  x_9=180.000\n",
            "  sigma_0_1=1\n",
            "  sigma_0_9=1\n",
            "  sigma_2_0=1\n",
            "  sigma_2_1=1\n",
            "  sigma_2_3=1\n",
            "  sigma_2_4=1\n",
            "  sigma_2_5=1\n",
            "  sigma_2_6=1\n",
            "  sigma_2_7=1\n",
            "  sigma_2_8=1\n",
            "  sigma_2_9=1\n",
            "  sigma_3_0=1\n",
            "  sigma_3_1=1\n",
            "  sigma_3_4=1\n",
            "  sigma_3_5=1\n",
            "  sigma_3_6=1\n",
            "  sigma_3_7=1\n",
            "  sigma_3_8=1\n",
            "  sigma_3_9=1\n",
            "  sigma_4_0=1\n",
            "  sigma_4_1=1\n",
            "  sigma_4_5=1\n",
            "  sigma_4_6=1\n",
            "  sigma_4_7=1\n",
            "  sigma_4_8=1\n",
            "  sigma_4_9=1\n",
            "  sigma_5_0=1\n",
            "  sigma_5_1=1\n",
            "  sigma_5_6=1\n",
            "  sigma_5_7=1\n",
            "  sigma_5_8=1\n",
            "  sigma_5_9=1\n",
            "  sigma_6_0=1\n",
            "  sigma_6_1=1\n",
            "  sigma_6_7=1\n",
            "  sigma_6_8=1\n",
            "  sigma_6_9=1\n",
            "  sigma_7_0=1\n",
            "  sigma_7_1=1\n",
            "  sigma_7_8=1\n",
            "  sigma_7_9=1\n",
            "  sigma_8_0=1\n",
            "  sigma_8_1=1\n",
            "  sigma_8_9=1\n",
            "  sigma_9_1=1\n",
            "  y_0_1=1\n",
            "  y_1_0=1\n",
            "  y_2_0=1\n",
            "  y_3_0=1\n",
            "  y_4_0=1\n",
            "  y_5_1=1\n",
            "  y_6_0=1\n",
            "  y_7_1=1\n",
            "  y_8_0=1\n",
            "  y_9_0=1\n",
            "  z_0_1=1\n",
            "  z_0_2=1\n",
            "  z_0_3=1\n",
            "  z_0_4=1\n",
            "  z_0_5=1\n",
            "  z_0_6=1\n",
            "  z_0_7=1\n",
            "  z_0_9=1\n",
            "  z_1_0=1\n",
            "  z_1_2=1\n",
            "  z_1_3=1\n",
            "  z_1_4=1\n",
            "  z_1_5=1\n",
            "  z_1_6=1\n",
            "  z_1_7=1\n",
            "  z_1_8=1\n",
            "  z_1_9=1\n",
            "  z_2_0=1\n",
            "  z_2_1=1\n",
            "  z_2_3=1\n",
            "  z_2_4=1\n",
            "  z_2_5=1\n",
            "  z_2_6=1\n",
            "  z_2_7=1\n",
            "  z_2_8=1\n",
            "  z_2_9=1\n",
            "  z_3_0=1\n",
            "  z_3_1=1\n",
            "  z_3_2=1\n",
            "  z_3_4=1\n",
            "  z_3_5=1\n",
            "  z_3_6=1\n",
            "  z_3_7=1\n",
            "  z_3_8=1\n",
            "  z_3_9=1\n",
            "  z_4_0=1\n",
            "  z_4_1=1\n",
            "  z_4_2=1\n",
            "  z_4_3=1\n",
            "  z_4_5=1\n",
            "  z_4_6=1\n",
            "  z_4_7=1\n",
            "  z_4_8=1\n",
            "  z_4_9=1\n",
            "  z_5_0=1\n",
            "  z_5_1=1\n",
            "  z_5_2=1\n",
            "  z_5_3=1\n",
            "  z_5_4=1\n",
            "  z_5_7=1\n",
            "  z_5_8=1\n",
            "  z_5_9=1\n",
            "  z_6_0=1\n",
            "  z_6_1=1\n",
            "  z_6_2=1\n",
            "  z_6_3=1\n",
            "  z_6_4=1\n",
            "  z_6_8=1\n",
            "  z_6_9=1\n",
            "  z_7_0=1\n",
            "  z_7_1=1\n",
            "  z_7_2=1\n",
            "  z_7_3=1\n",
            "  z_7_4=1\n",
            "  z_7_5=1\n",
            "  z_7_8=1\n",
            "  z_7_9=1\n",
            "  z_8_1=1\n",
            "  z_8_2=1\n",
            "  z_8_3=1\n",
            "  z_8_4=1\n",
            "  z_8_5=1\n",
            "  z_8_6=1\n",
            "  z_8_7=1\n",
            "  z_8_9=1\n",
            "  z_9_0=1\n",
            "  z_9_1=1\n",
            "  z_9_2=1\n",
            "  z_9_3=1\n",
            "  z_9_4=1\n",
            "  z_9_5=1\n",
            "  z_9_6=1\n",
            "  z_9_7=1\n",
            "  z_9_8=1\n"
          ]
        }
      ],
      "source": [
        "file_name = \"./airland1.txt\"\n",
        "R = 2\n",
        "\n",
        "mdl_ = MIP_model(file_name, R)\n",
        "mdl_.report()\n",
        "mdl_.print_solution()"
      ]
    },
    {
      "cell_type": "markdown",
      "id": "bba56ca6",
      "metadata": {
        "id": "bba56ca6"
      },
      "source": [
        "## The CP model"
      ]
    },
    {
      "cell_type": "code",
      "execution_count": null,
      "id": "wjsTUijZ9GmU",
      "metadata": {
        "colab": {
          "base_uri": "https://localhost:8080/"
        },
        "id": "wjsTUijZ9GmU",
        "outputId": "d2b766af-59b5-4237-bd3b-dea3fb173864"
      },
      "outputs": [
        {
          "name": "stdout",
          "output_type": "stream",
          "text": [
            "Looking in indexes: https://pypi.org/simple, https://us-python.pkg.dev/colab-wheels/public/simple/\n",
            "Collecting ortools\n",
            "  Downloading ortools-9.5.2237-cp38-cp38-manylinux_2_17_x86_64.manylinux2014_x86_64.whl (16.3 MB)\n",
            "\u001b[2K     \u001b[90m━━━━━━━━━━━━━━━━━━━━━━━━━━━━━━━━━━━━━━━━\u001b[0m \u001b[32m16.3/16.3 MB\u001b[0m \u001b[31m82.7 MB/s\u001b[0m eta \u001b[36m0:00:00\u001b[0m\n",
            "\u001b[?25hRequirement already satisfied: numpy>=1.13.3 in /usr/local/lib/python3.8/dist-packages (from ortools) (1.21.6)\n",
            "Requirement already satisfied: absl-py>=0.13 in /usr/local/lib/python3.8/dist-packages (from ortools) (1.3.0)\n",
            "Collecting protobuf>=4.21.5\n",
            "  Downloading protobuf-4.21.12-cp37-abi3-manylinux2014_x86_64.whl (409 kB)\n",
            "\u001b[2K     \u001b[90m━━━━━━━━━━━━━━━━━━━━━━━━━━━━━━━━━━━━━━\u001b[0m \u001b[32m409.8/409.8 KB\u001b[0m \u001b[31m44.6 MB/s\u001b[0m eta \u001b[36m0:00:00\u001b[0m\n",
            "\u001b[?25hInstalling collected packages: protobuf, ortools\n",
            "  Attempting uninstall: protobuf\n",
            "    Found existing installation: protobuf 3.19.6\n",
            "    Uninstalling protobuf-3.19.6:\n",
            "      Successfully uninstalled protobuf-3.19.6\n",
            "\u001b[31mERROR: pip's dependency resolver does not currently take into account all the packages that are installed. This behaviour is the source of the following dependency conflicts.\n",
            "tensorflow 2.9.2 requires protobuf<3.20,>=3.9.2, but you have protobuf 4.21.12 which is incompatible.\n",
            "tensorflow-metadata 1.12.0 requires protobuf<4,>=3.13, but you have protobuf 4.21.12 which is incompatible.\n",
            "tensorboard 2.9.1 requires protobuf<3.20,>=3.9.2, but you have protobuf 4.21.12 which is incompatible.\u001b[0m\u001b[31m\n",
            "\u001b[0mSuccessfully installed ortools-9.5.2237 protobuf-4.21.12\n"
          ]
        }
      ],
      "source": [
        "!pip install ortools"
      ]
    },
    {
      "cell_type": "code",
      "execution_count": null,
      "id": "0GfqCl_iWvfT",
      "metadata": {
        "id": "0GfqCl_iWvfT"
      },
      "outputs": [],
      "source": [
        "def read_datafiles_cp(file):\n",
        "    with open(file, 'r') as data:\n",
        "        data_lines = data.readlines()\n",
        "        number_planes = int(data_lines[0].split()[0])\n",
        "        freeze_time =  int(data_lines[0].split()[1])\n",
        "        mixed_data = [line.split() for line in data_lines[1:] if not line.isspace()]\n",
        "        mixed_data = [[(float(j)) for j in i] for i in mixed_data]\n",
        "        \n",
        "        flight_details = np.empty([0,6],dtype=float)\n",
        "        separation_time = np.empty([0,number_planes],dtype=float)\n",
        "        \n",
        "        flag = 0\n",
        "       \n",
        "        for element in mixed_data:\n",
        "            if flag == 0: # flight details\n",
        "                flight_details = np.vstack([flight_details, np.array(element)])\n",
        "                flag = 1\n",
        "                element_final = []\n",
        "            else:  # separation_times\n",
        "                element_final.extend(element)\n",
        "                if len(element_final) == number_planes:\n",
        "                    separation_time = np.vstack([separation_time, np.array(element_final)])\n",
        "                    flag = 0\n",
        "\n",
        "        minimum = min(flight_details[:,1])\n",
        "        maximum = max(flight_details[:,3])\n",
        "        num_periods = int(minimum % 10)\n",
        "        int_size = (maximum-minimum)//num_periods #CT: Adicionei max-min\n",
        "        period_constraints = []\n",
        "\n",
        "        x = (0,0)\n",
        "        lst = list(x)\n",
        "        for i in range(num_periods-1): #CT: Adicionei -1 \n",
        "            lst[0], lst[1] = int_size * i, int_size * (i+1)\n",
        "            x = tuple(lst)\n",
        "            period_constraints.append(x)\n",
        "\n",
        "                \n",
        "        print(f\" number planes: {number_planes}\")\n",
        "        print(f\" num_periods: {num_periods}\")\n",
        "        print(f\" flight details: {flight_details}\")\n",
        "        print(f\" period_constraints: {period_constraints}\")\n",
        "    \n",
        "    return number_planes, num_periods, flight_details, separation_time, period_constraints #CT:added separation time"
      ]
    },
    {
      "cell_type": "code",
      "execution_count": null,
      "id": "1AG34FjbYBTX",
      "metadata": {
        "colab": {
          "base_uri": "https://localhost:8080/"
        },
        "id": "1AG34FjbYBTX",
        "outputId": "2f2f8924-1135-46b7-bc88-af0e15bf5568"
      },
      "outputs": [
        {
          "name": "stdout",
          "output_type": "stream",
          "text": [
            " number planes: 10\n",
            " num_periods: 9\n",
            " flight details: [[ 54. 129. 155. 559.  10.  10.]\n",
            " [120. 195. 258. 744.  10.  10.]\n",
            " [ 14.  89.  98. 510.  30.  30.]\n",
            " [ 21.  96. 106. 521.  30.  30.]\n",
            " [ 35. 110. 123. 555.  30.  30.]\n",
            " [ 45. 120. 135. 576.  30.  30.]\n",
            " [ 49. 124. 138. 577.  30.  30.]\n",
            " [ 51. 126. 140. 573.  30.  30.]\n",
            " [ 60. 135. 150. 591.  30.  30.]\n",
            " [ 85. 160. 180. 657.  30.  30.]]\n",
            " period_constraints: [(0.0, 72.0), (72.0, 144.0), (144.0, 216.0), (216.0, 288.0), (288.0, 360.0), (360.0, 432.0), (432.0, 504.0), (504.0, 576.0)]\n"
          ]
        },
        {
          "data": {
            "text/plain": [
              "(10,\n",
              " 9,\n",
              " array([[ 54., 129., 155., 559.,  10.,  10.],\n",
              "        [120., 195., 258., 744.,  10.,  10.],\n",
              "        [ 14.,  89.,  98., 510.,  30.,  30.],\n",
              "        [ 21.,  96., 106., 521.,  30.,  30.],\n",
              "        [ 35., 110., 123., 555.,  30.,  30.],\n",
              "        [ 45., 120., 135., 576.,  30.,  30.],\n",
              "        [ 49., 124., 138., 577.,  30.,  30.],\n",
              "        [ 51., 126., 140., 573.,  30.,  30.],\n",
              "        [ 60., 135., 150., 591.,  30.,  30.],\n",
              "        [ 85., 160., 180., 657.,  30.,  30.]]),\n",
              " array([[9.9999e+04, 3.0000e+00, 1.5000e+01, 1.5000e+01, 1.5000e+01,\n",
              "         1.5000e+01, 1.5000e+01, 1.5000e+01, 1.5000e+01, 1.5000e+01],\n",
              "        [3.0000e+00, 9.9999e+04, 1.5000e+01, 1.5000e+01, 1.5000e+01,\n",
              "         1.5000e+01, 1.5000e+01, 1.5000e+01, 1.5000e+01, 1.5000e+01],\n",
              "        [1.5000e+01, 1.5000e+01, 9.9999e+04, 8.0000e+00, 8.0000e+00,\n",
              "         8.0000e+00, 8.0000e+00, 8.0000e+00, 8.0000e+00, 8.0000e+00],\n",
              "        [1.5000e+01, 1.5000e+01, 8.0000e+00, 9.9999e+04, 8.0000e+00,\n",
              "         8.0000e+00, 8.0000e+00, 8.0000e+00, 8.0000e+00, 8.0000e+00],\n",
              "        [1.5000e+01, 1.5000e+01, 8.0000e+00, 8.0000e+00, 9.9999e+04,\n",
              "         8.0000e+00, 8.0000e+00, 8.0000e+00, 8.0000e+00, 8.0000e+00],\n",
              "        [1.5000e+01, 1.5000e+01, 8.0000e+00, 8.0000e+00, 8.0000e+00,\n",
              "         9.9999e+04, 8.0000e+00, 8.0000e+00, 8.0000e+00, 8.0000e+00],\n",
              "        [1.5000e+01, 1.5000e+01, 8.0000e+00, 8.0000e+00, 8.0000e+00,\n",
              "         8.0000e+00, 9.9999e+04, 8.0000e+00, 8.0000e+00, 8.0000e+00],\n",
              "        [1.5000e+01, 1.5000e+01, 8.0000e+00, 8.0000e+00, 8.0000e+00,\n",
              "         8.0000e+00, 8.0000e+00, 9.9999e+04, 8.0000e+00, 8.0000e+00],\n",
              "        [1.5000e+01, 1.5000e+01, 8.0000e+00, 8.0000e+00, 8.0000e+00,\n",
              "         8.0000e+00, 8.0000e+00, 8.0000e+00, 9.9999e+04, 8.0000e+00],\n",
              "        [1.5000e+01, 1.5000e+01, 8.0000e+00, 8.0000e+00, 8.0000e+00,\n",
              "         8.0000e+00, 8.0000e+00, 8.0000e+00, 8.0000e+00, 9.9999e+04]]),\n",
              " [(0.0, 72.0),\n",
              "  (72.0, 144.0),\n",
              "  (144.0, 216.0),\n",
              "  (216.0, 288.0),\n",
              "  (288.0, 360.0),\n",
              "  (360.0, 432.0),\n",
              "  (432.0, 504.0),\n",
              "  (504.0, 576.0)])"
            ]
          },
          "execution_count": 7,
          "metadata": {},
          "output_type": "execute_result"
        }
      ],
      "source": [
        "read_datafiles_cp(\"./Data/airland1.txt\")"
      ]
    },
    {
      "cell_type": "code",
      "execution_count": null,
      "id": "0derScRY9MF4",
      "metadata": {
        "id": "0derScRY9MF4"
      },
      "outputs": [],
      "source": [
        "def CP_model(file_name,R):\n",
        "    num_aircrafts, num_periods, aircraft_data, separation_time, period_constraints = read_datafiles_cp(file_name) #CT:added separation_time\n",
        "    \n",
        "    def discretize_time(time):    # CT: added\n",
        "        for i in period_constraints:\n",
        "            if time >= i[0] and time <= i[1]:\n",
        "                return period_constraints.index(i)\n",
        "         \n",
        "    E = aircraft_data[:,1]  #earliest landing time,\n",
        "    T = aircraft_data[:,2]  #target landing time,\n",
        "    L = aircraft_data[:,3]  #latest landing time,\n",
        "    g = aircraft_data[:,4]  #penalty cost per unit of time for landing before target,\n",
        "    h = aircraft_data[:,5]  #penalty cost per unit of time for landing after target\n",
        "    range_LT = max(aircraft_data[:,3]) - min(aircraft_data[:,1]) #landing range time\n",
        "    ij = [(i,j) for i in np.arange(num_aircrafts) for j in np.arange(num_aircrafts)]\n",
        "    ir = [(i, r) for i in np.arange(num_aircrafts) for r in np.arange(R)]\n",
        "\n",
        "    from docplex.cp.model import CpoModel\n",
        "\n",
        "    # Create the model\n",
        "    model = CpoModel(\"aircraft_landing_problem\")\n",
        "\n",
        "    # Create variables\n",
        "    \n",
        "    n_planes = num_aircrafts   # CT: added\n",
        "    planes = model.integer_var_list(size=n_planes, min=1, max=n_planes, name=\"Planes\") # CT: added\n",
        "    model.add(model.all_diff(planes)) # CT: added\n",
        "    \n",
        "    x = model.binary_var_list(num_aircrafts, \"x\") # 1 if aircraft i lands in period t, 0 otherwise\n",
        "\n",
        "    # faltam variaveis aqui ainda\n",
        "\n",
        "    # Const 1 - An aircraft must land in exactly one period\n",
        "    for i in range(num_aircrafts):\n",
        "        model.add(model.sum(x[i, t] for t in range(num_periods)) == 1)\n",
        "\n",
        "    # Const 2 - The minimum value of target landing time must be in the first time interval\n",
        "    for i in range(num_aircrafts):\n",
        "        model.add((T[i] >= min(period_constraints[0])) and (T[i] <= max(period_constraints[0])))\n",
        "\n",
        "\n",
        "    # Const 3 - The maximum value of target landing time must be in the last time interval\n",
        "    for i in range(num_aircrafts):\n",
        "        model.add((T[i] >= min(period_constraints[-1])) and (T[i] <= max(period_constraints[-1])))\n",
        "\n",
        "  #############################################--------------############################\n",
        "\n",
        "\n",
        "\n",
        "\n",
        "\n"
      ]
    },
    {
      "cell_type": "code",
      "execution_count": null,
      "id": "BVM8Wl2s-Uw8",
      "metadata": {
        "colab": {
          "base_uri": "https://localhost:8080/",
          "height": 1000
        },
        "id": "BVM8Wl2s-Uw8",
        "outputId": "36113f04-da42-419d-aa3a-17d31d385333"
      },
      "outputs": [
        {
          "name": "stdout",
          "output_type": "stream",
          "text": [
            " number planes: 10\n",
            " num_periods: 9\n",
            " flight details: [[ 54. 129. 155. 559.  10.  10.]\n",
            " [120. 195. 258. 744.  10.  10.]\n",
            " [ 14.  89.  98. 510.  30.  30.]\n",
            " [ 21.  96. 106. 521.  30.  30.]\n",
            " [ 35. 110. 123. 555.  30.  30.]\n",
            " [ 45. 120. 135. 576.  30.  30.]\n",
            " [ 49. 124. 138. 577.  30.  30.]\n",
            " [ 51. 126. 140. 573.  30.  30.]\n",
            " [ 60. 135. 150. 591.  30.  30.]\n",
            " [ 85. 160. 180. 657.  30.  30.]]\n",
            " period_constraints: [(0.0, 72.0), (72.0, 144.0), (144.0, 216.0), (216.0, 288.0), (288.0, 360.0), (360.0, 432.0), (432.0, 504.0), (504.0, 576.0)]\n",
            "6\n"
          ]
        },
        {
          "ename": "NameError",
          "evalue": "name 'n_plannes' is not defined",
          "output_type": "error",
          "traceback": [
            "\u001b[1;31m---------------------------------------------------------------------------\u001b[0m",
            "\u001b[1;31mNameError\u001b[0m                                 Traceback (most recent call last)",
            "Cell \u001b[1;32mIn [16], line 3\u001b[0m\n\u001b[0;32m      1\u001b[0m file_name \u001b[38;5;241m=\u001b[39m \u001b[38;5;124m\"\u001b[39m\u001b[38;5;124m./Data/airland1.txt\u001b[39m\u001b[38;5;124m\"\u001b[39m\n\u001b[0;32m      2\u001b[0m R \u001b[38;5;241m=\u001b[39m \u001b[38;5;241m2\u001b[39m\n\u001b[1;32m----> 3\u001b[0m \u001b[43mCP_model\u001b[49m\u001b[43m(\u001b[49m\u001b[43mfile_name\u001b[49m\u001b[43m,\u001b[49m\u001b[43m \u001b[49m\u001b[43mR\u001b[49m\u001b[43m)\u001b[49m\n",
            "Cell \u001b[1;32mIn [15], line 28\u001b[0m, in \u001b[0;36mCP_model\u001b[1;34m(file_name, R)\u001b[0m\n\u001b[0;32m     25\u001b[0m \u001b[38;5;66;03m# Create variables\u001b[39;00m\n\u001b[0;32m     27\u001b[0m n_planes \u001b[38;5;241m=\u001b[39m num_aircrafts\n\u001b[1;32m---> 28\u001b[0m planes \u001b[38;5;241m=\u001b[39m model\u001b[38;5;241m.\u001b[39minteger_var_list(size\u001b[38;5;241m=\u001b[39mn_planes, \u001b[38;5;28mmin\u001b[39m\u001b[38;5;241m=\u001b[39m\u001b[38;5;241m1\u001b[39m, \u001b[38;5;28mmax\u001b[39m\u001b[38;5;241m=\u001b[39m\u001b[43mn_plannes\u001b[49m, name\u001b[38;5;241m=\u001b[39m\u001b[38;5;124m\"\u001b[39m\u001b[38;5;124mPlanes\u001b[39m\u001b[38;5;124m\"\u001b[39m)\n\u001b[0;32m     30\u001b[0m x \u001b[38;5;241m=\u001b[39m model\u001b[38;5;241m.\u001b[39mbinary_var_list(num_aircrafts, \u001b[38;5;124m\"\u001b[39m\u001b[38;5;124mx\u001b[39m\u001b[38;5;124m\"\u001b[39m) \u001b[38;5;66;03m# 1 if aircraft i lands in period t, 0 otherwise\u001b[39;00m\n\u001b[0;32m     32\u001b[0m \u001b[38;5;66;03m# faltam variaveis aqui ainda\u001b[39;00m\n\u001b[0;32m     33\u001b[0m \n\u001b[0;32m     34\u001b[0m \u001b[38;5;66;03m# Const 1 - An aircraft must land in exactly one period\u001b[39;00m\n",
            "\u001b[1;31mNameError\u001b[0m: name 'n_plannes' is not defined"
          ]
        }
      ],
      "source": [
        "file_name = \"./Data/airland1.txt\"\n",
        "R = 2\n",
        "CP_model(file_name, R)"
      ]
    }
  ],
  "metadata": {
    "colab": {
      "provenance": [],
      "include_colab_link": true
    },
    "kernelspec": {
      "display_name": "Python 3 (ipykernel)",
      "language": "python",
      "name": "python3"
    },
    "language_info": {
      "codemirror_mode": {
        "name": "ipython",
        "version": 3
      },
      "file_extension": ".py",
      "mimetype": "text/x-python",
      "name": "python",
      "nbconvert_exporter": "python",
      "pygments_lexer": "ipython3",
      "version": "3.9.12"
    },
    "vscode": {
      "interpreter": {
        "hash": "31f2aee4e71d21fbe5cf8b01ff0e069b9275f58929596ceb00d14d90e3e16cd6"
      }
    }
  },
  "nbformat": 4,
  "nbformat_minor": 5
}
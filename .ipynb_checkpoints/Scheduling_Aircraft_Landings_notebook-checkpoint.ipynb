{
 "cells": [
  {
   "cell_type": "markdown",
   "id": "c608bff7",
   "metadata": {
    "id": "c608bff7"
   },
   "source": [
    "# Download the library"
   ]
  },
  {
   "cell_type": "code",
   "execution_count": 3,
   "id": "614988a1",
   "metadata": {
    "colab": {
     "base_uri": "https://localhost:8080/"
    },
    "id": "614988a1",
    "outputId": "3e99b8ef-484d-43f2-c5ce-3d1e392622d3"
   },
   "outputs": [
    {
     "name": "stdout",
     "output_type": "stream",
     "text": [
      "Defaulting to user installation because normal site-packages is not writeable\n",
      "Requirement already satisfied: docplex in /Users/soniaferreira/Library/Python/3.9/lib/python/site-packages (2.24.232)\n",
      "Requirement already satisfied: six in /Library/Developer/CommandLineTools/Library/Frameworks/Python3.framework/Versions/3.9/lib/python3.9/site-packages (from docplex) (1.15.0)\n",
      "\u001b[33mWARNING: You are using pip version 21.2.4; however, version 22.3.1 is available.\n",
      "You should consider upgrading via the '/Library/Developer/CommandLineTools/usr/bin/python3 -m pip install --upgrade pip' command.\u001b[0m\n",
      "Defaulting to user installation because normal site-packages is not writeable\n",
      "Requirement already satisfied: cplex in /Library/Python/3.9/site-packages (22.1.0.0)\n",
      "\u001b[33mWARNING: You are using pip version 21.2.4; however, version 22.3.1 is available.\n",
      "You should consider upgrading via the '/Library/Developer/CommandLineTools/usr/bin/python3 -m pip install --upgrade pip' command.\u001b[0m\n"
     ]
    }
   ],
   "source": [
    "# !pip install docplex\n",
    "# !pip install cplex"
   ]
  },
  {
   "cell_type": "code",
   "execution_count": 4,
   "id": "dc10a6ec",
   "metadata": {
    "id": "dc10a6ec"
   },
   "outputs": [],
   "source": [
    "from docplex.cp.model import *\n",
    "import numpy as np"
   ]
  },
  {
   "cell_type": "markdown",
   "id": "e25ded87",
   "metadata": {
    "id": "e25ded87"
   },
   "source": [
    "# Info"
   ]
  },
  {
   "cell_type": "markdown",
   "id": "0686b9ff",
   "metadata": {
    "id": "0686b9ff"
   },
   "source": [
    "The format of these data files is:\n",
    "number of planes (p), freeze time\n",
    "for each plane i (i=1,...,p):\n",
    "   - appearance time, \n",
    "   - earliest landing time, \n",
    "   - target landing time,\n",
    "   - latest landing time, \n",
    "   - penalty cost per unit of time for landing before target, \n",
    "   - penalty cost per unit of time for landing after target\n",
    "\n",
    "for each plane j (j=1,...p): separation time required after \n",
    "                                i lands before j can land\n"
   ]
  },
  {
   "cell_type": "markdown",
   "id": "ca22e6a1",
   "metadata": {
    "id": "ca22e6a1"
   },
   "source": [
    "### Sigle runway definitions and variables\n",
    "\n",
    "![image.png](Images/single_run.png)\n"
   ]
  },
  {
   "cell_type": "markdown",
   "id": "1238e2e4",
   "metadata": {
    "id": "1238e2e4"
   },
   "source": [
    "### Multirunway defintions and variables \n",
    "\n",
    "![image.png](Images/multi_run.png)"
   ]
  },
  {
   "cell_type": "markdown",
   "id": "e2edc33f",
   "metadata": {
    "id": "e2edc33f"
   },
   "source": [
    "## Get data"
   ]
  },
  {
   "cell_type": "code",
   "execution_count": 41,
   "id": "9d5004dd",
   "metadata": {
    "id": "9d5004dd"
   },
   "outputs": [],
   "source": [
    "def read_datafiles(file):\n",
    "    with open(file, 'r') as data:\n",
    "        data_lines = data.readlines()\n",
    "        number_planes = int(data_lines[0].split()[0])\n",
    "        freeze_time =  int(data_lines[0].split()[1])\n",
    "        mixed_data = [line.split() for line in data_lines[1:] if not line.isspace()]\n",
    "        mixed_data = [[(float(j)) for j in i] for i in mixed_data]\n",
    "        \n",
    "        flight_details = np.empty([0,6],dtype=float)\n",
    "        separation_time = np.empty([0,number_planes],dtype=float)\n",
    "        \n",
    "        flag = 0\n",
    "       \n",
    "        for element in mixed_data:\n",
    "            if flag == 0: # flight details\n",
    "                flight_details = np.vstack([flight_details, np.array(element)])\n",
    "                flag = 1\n",
    "                element_final = []\n",
    "            else:  # separation_times\n",
    "                element_final.extend(element)\n",
    "                if len(element_final) == number_planes:\n",
    "                    separation_time = np.vstack([separation_time, np.array(element_final)])\n",
    "                    flag = 0\n",
    "                \n",
    "        print(f\" number planes: {number_planes}\")\n",
    "        print(f\" freeze time: {freeze_time}\")\n",
    "        print(f\" mixed data: {mixed_data}\")\n",
    "        print(f\" flight details: {flight_details}\")\n",
    "        print(f\" separation time: {separation_time}\")\n",
    "    \n",
    "    return number_planes, freeze_time, flight_details, separation_time\n"
   ]
  },
  {
   "cell_type": "code",
   "execution_count": 5,
   "id": "ec59b0ee",
   "metadata": {
    "colab": {
     "base_uri": "https://localhost:8080/"
    },
    "id": "ec59b0ee",
    "outputId": "1a79c63c-fc2c-4944-964c-88fcba1d2202"
   },
   "outputs": [
    {
     "name": "stdout",
     "output_type": "stream",
     "text": [
      " number planes: 10\n",
      " freeze time: 10\n",
      " mixed data: [[54, 129, 155, 559, 10, 10], [99999, 3, 15, 15, 15, 15, 15, 15], [15, 15], [120, 195, 258, 744, 10, 10], [3, 99999, 15, 15, 15, 15, 15, 15], [15, 15], [14, 89, 98, 510, 30, 30], [15, 15, 99999, 8, 8, 8, 8, 8], [8, 8], [21, 96, 106, 521, 30, 30], [15, 15, 8, 99999, 8, 8, 8, 8], [8, 8], [35, 110, 123, 555, 30, 30], [15, 15, 8, 8, 99999, 8, 8, 8], [8, 8], [45, 120, 135, 576, 30, 30], [15, 15, 8, 8, 8, 99999, 8, 8], [8, 8], [49, 124, 138, 577, 30, 30], [15, 15, 8, 8, 8, 8, 99999, 8], [8, 8], [51, 126, 140, 573, 30, 30], [15, 15, 8, 8, 8, 8, 8, 99999], [8, 8], [60, 135, 150, 591, 30, 30], [15, 15, 8, 8, 8, 8, 8, 8], [99999, 8], [85, 160, 180, 657, 30, 30], [15, 15, 8, 8, 8, 8, 8, 8], [8, 99999]]\n",
      " flight details: [[ 54. 129. 155. 559.  10.  10.]\n",
      " [120. 195. 258. 744.  10.  10.]\n",
      " [ 14.  89.  98. 510.  30.  30.]\n",
      " [ 21.  96. 106. 521.  30.  30.]\n",
      " [ 35. 110. 123. 555.  30.  30.]\n",
      " [ 45. 120. 135. 576.  30.  30.]\n",
      " [ 49. 124. 138. 577.  30.  30.]\n",
      " [ 51. 126. 140. 573.  30.  30.]\n",
      " [ 60. 135. 150. 591.  30.  30.]\n",
      " [ 85. 160. 180. 657.  30.  30.]]\n",
      " separation time: [[9.9999e+04 3.0000e+00 1.5000e+01 1.5000e+01 1.5000e+01 1.5000e+01\n",
      "  1.5000e+01 1.5000e+01 1.5000e+01 1.5000e+01]\n",
      " [3.0000e+00 9.9999e+04 1.5000e+01 1.5000e+01 1.5000e+01 1.5000e+01\n",
      "  1.5000e+01 1.5000e+01 1.5000e+01 1.5000e+01]\n",
      " [1.5000e+01 1.5000e+01 9.9999e+04 8.0000e+00 8.0000e+00 8.0000e+00\n",
      "  8.0000e+00 8.0000e+00 8.0000e+00 8.0000e+00]\n",
      " [1.5000e+01 1.5000e+01 8.0000e+00 9.9999e+04 8.0000e+00 8.0000e+00\n",
      "  8.0000e+00 8.0000e+00 8.0000e+00 8.0000e+00]\n",
      " [1.5000e+01 1.5000e+01 8.0000e+00 8.0000e+00 9.9999e+04 8.0000e+00\n",
      "  8.0000e+00 8.0000e+00 8.0000e+00 8.0000e+00]\n",
      " [1.5000e+01 1.5000e+01 8.0000e+00 8.0000e+00 8.0000e+00 9.9999e+04\n",
      "  8.0000e+00 8.0000e+00 8.0000e+00 8.0000e+00]\n",
      " [1.5000e+01 1.5000e+01 8.0000e+00 8.0000e+00 8.0000e+00 8.0000e+00\n",
      "  9.9999e+04 8.0000e+00 8.0000e+00 8.0000e+00]\n",
      " [1.5000e+01 1.5000e+01 8.0000e+00 8.0000e+00 8.0000e+00 8.0000e+00\n",
      "  8.0000e+00 9.9999e+04 8.0000e+00 8.0000e+00]\n",
      " [1.5000e+01 1.5000e+01 8.0000e+00 8.0000e+00 8.0000e+00 8.0000e+00\n",
      "  8.0000e+00 8.0000e+00 9.9999e+04 8.0000e+00]\n",
      " [1.5000e+01 1.5000e+01 8.0000e+00 8.0000e+00 8.0000e+00 8.0000e+00\n",
      "  8.0000e+00 8.0000e+00 8.0000e+00 9.9999e+04]]\n"
     ]
    },
    {
     "data": {
      "text/plain": [
       "(10, 10, array([[ 54., 129., 155., 559.,  10.,  10.],\n",
       "        [120., 195., 258., 744.,  10.,  10.],\n",
       "        [ 14.,  89.,  98., 510.,  30.,  30.],\n",
       "        [ 21.,  96., 106., 521.,  30.,  30.],\n",
       "        [ 35., 110., 123., 555.,  30.,  30.],\n",
       "        [ 45., 120., 135., 576.,  30.,  30.],\n",
       "        [ 49., 124., 138., 577.,  30.,  30.],\n",
       "        [ 51., 126., 140., 573.,  30.,  30.],\n",
       "        [ 60., 135., 150., 591.,  30.,  30.],\n",
       "        [ 85., 160., 180., 657.,  30.,  30.]]), array([[9.9999e+04, 3.0000e+00, 1.5000e+01, 1.5000e+01, 1.5000e+01,\n",
       "         1.5000e+01, 1.5000e+01, 1.5000e+01, 1.5000e+01, 1.5000e+01],\n",
       "        [3.0000e+00, 9.9999e+04, 1.5000e+01, 1.5000e+01, 1.5000e+01,\n",
       "         1.5000e+01, 1.5000e+01, 1.5000e+01, 1.5000e+01, 1.5000e+01],\n",
       "        [1.5000e+01, 1.5000e+01, 9.9999e+04, 8.0000e+00, 8.0000e+00,\n",
       "         8.0000e+00, 8.0000e+00, 8.0000e+00, 8.0000e+00, 8.0000e+00],\n",
       "        [1.5000e+01, 1.5000e+01, 8.0000e+00, 9.9999e+04, 8.0000e+00,\n",
       "         8.0000e+00, 8.0000e+00, 8.0000e+00, 8.0000e+00, 8.0000e+00],\n",
       "        [1.5000e+01, 1.5000e+01, 8.0000e+00, 8.0000e+00, 9.9999e+04,\n",
       "         8.0000e+00, 8.0000e+00, 8.0000e+00, 8.0000e+00, 8.0000e+00],\n",
       "        [1.5000e+01, 1.5000e+01, 8.0000e+00, 8.0000e+00, 8.0000e+00,\n",
       "         9.9999e+04, 8.0000e+00, 8.0000e+00, 8.0000e+00, 8.0000e+00],\n",
       "        [1.5000e+01, 1.5000e+01, 8.0000e+00, 8.0000e+00, 8.0000e+00,\n",
       "         8.0000e+00, 9.9999e+04, 8.0000e+00, 8.0000e+00, 8.0000e+00],\n",
       "        [1.5000e+01, 1.5000e+01, 8.0000e+00, 8.0000e+00, 8.0000e+00,\n",
       "         8.0000e+00, 8.0000e+00, 9.9999e+04, 8.0000e+00, 8.0000e+00],\n",
       "        [1.5000e+01, 1.5000e+01, 8.0000e+00, 8.0000e+00, 8.0000e+00,\n",
       "         8.0000e+00, 8.0000e+00, 8.0000e+00, 9.9999e+04, 8.0000e+00],\n",
       "        [1.5000e+01, 1.5000e+01, 8.0000e+00, 8.0000e+00, 8.0000e+00,\n",
       "         8.0000e+00, 8.0000e+00, 8.0000e+00, 8.0000e+00, 9.9999e+04]]))"
      ]
     },
     "execution_count": 5,
     "metadata": {},
     "output_type": "execute_result"
    }
   ],
   "source": [
    "read_datafiles(\"./airland1.txt\")"
   ]
  },
  {
   "cell_type": "markdown",
   "id": "85615aec",
   "metadata": {
    "id": "85615aec"
   },
   "source": [
    "# The MIP model"
   ]
  },
  {
   "cell_type": "code",
   "execution_count": 6,
   "id": "133d9290",
   "metadata": {
    "id": "133d9290"
   },
   "outputs": [],
   "source": [
    "def MIP_model(file_name,R):\n",
    "    from docplex.mp.model import Model\n",
    "    mdl = Model(\"Scheduling Aircraft Landing - Multi Runaway Static Case\")\n",
    "    \n",
    "    P, freeze_time, flight_details, separation_time = read_datafiles(file_name)\n",
    "\n",
    "    #Creating a CPLEX model\n",
    "    #model=Model(\"Aircraft Landing Schedule\")\n",
    "    \n",
    "    # The first column relates to the actual appearence time of the plane so will not be taken into account for our decision variables\n",
    "\n",
    "    E = flight_details[:,1]  #earliest landing time,\n",
    "    T = flight_details[:,2]  #target landing time,\n",
    "    L = flight_details[:,3]  #latest landing time,\n",
    "    g = flight_details[:,4]  #penalty cost per unit of time for landing before target,\n",
    "    h = flight_details[:,5]  #penalty cost per unit of time for landing after target\n",
    "    range_LT = max(flight_details[:,3]) - min(flight_details[:,1]) #landing range time\n",
    "    ij = [(i,j) for i in np.arange(P) for j in np.arange(P)]\n",
    "    ir = [(i, r) for i in np.arange(P) for r in np.arange(R)]\n",
    "    \n",
    "\n",
    "    # Defining decision variables\n",
    "\n",
    "    alpha   = mdl.continuous_var_dict(np.arange(P),lb=0,ub=mdl.infinity, name=\"alpha\") # how soon a plane lands before target time\n",
    "    beta    = mdl.continuous_var_dict(np.arange(P),lb=0,ub=mdl.infinity, name=\"beta\") # how soon a plane lands after target time\n",
    "    x       = mdl.continuous_var_dict(np.arange(P),lb=0,ub=mdl.infinity, name=\"x\") # landing time for a plane\n",
    "    sigma   = mdl.binary_var_dict(ij,lb=0,ub=1, name=\"sigma\") # binary variable: 1 if plane i lands before plane j, 0 elsewhere\n",
    "    y       = mdl.binary_var_dict(ir,lb=0,ub=1, name=\"y\") # 1 if plane i lands on runaway  r , 0 otherwise\n",
    "    z       = mdl.binary_var_dict(ij,lb=0,ub=1, name=\"z\") # 1 if planes i and  j land on the same runaway, 0 otherwise\n",
    "\n",
    "\n",
    "\n",
    "    # Adding constraints\n",
    "    \n",
    "    mdl.add_constraints(x[i]>=E[i-1] for i in np.arange(P)) # Const 1 - Landing time of plane i must be later than the earliest landing time\n",
    "    mdl.add_constraints(x[i]<=L[i-1] for i in np.arange(P)) # Const 1 - Landing time of plane i must be earlier than the before latest landing time\n",
    "    mdl.add_constraints(sigma[i,j]+sigma[j,i]==1 for i in np.arange(P) for j in np.arange(P) if j!=i)  # Const 2 - Plain i must land before plain j or plain j before plain i\n",
    "    mdl.add_constraints(alpha[i]>=T[i]-x[i] for i in np.arange(P)) # Const 14 - How soon plane i lands before T[i] must be larger than T[i] - x[i]\n",
    "    mdl.add_constraints(alpha[i]<=T[i]-E[i] for i in np.arange(P)) # Const 15 - How soon plane i lands before T[i] must be smaller than T[i] - E[i]\n",
    "    mdl.add_constraints(alpha[i]>= 0 for i in np.arange(P)) # Const 15 - How soon plane i lands before T[i] must be at least zero\n",
    "    mdl.add_constraints(beta[i]>=x[i]-T[i] for i in np.arange(P))  # Const 16 - How soon plane i lands after T[i] must be larger than x[i] - T[i]\n",
    "    mdl.add_constraints(beta[i]<=L[i]-T[i] for i in np.arange(P))  # Const 17 - How soon plane i lands after T[i] must be smaller than L[i] - T[i]\n",
    "    mdl.add_constraints(beta[i]>= 0 for i in np.arange(P))  # Const 17 - How soon plane i lands after T[i] must be at least zero\n",
    "    mdl.add_constraints(x[i]==T[i]-alpha[i]+beta[i] for i in np.arange(P))  # Const 18 - Landing time is equal to target time minus arriving early or plus arriving late\n",
    "   \n",
    "    mdl.add_constraints(mdl.sum(y[i,r] for r in np.arange(R))==1 for i in np.arange(P))     # Const 28 - Plane i can only land in 1 runaway\n",
    "    mdl.add_constraints(z[i,j]==z[j,i] for i in np.arange(P) for j in np.arange(P) if j>i)  # Const 29 - Symetry constraint: If plane i lands in the same runaway as plane j, plane j lands in the same runaway as plane i\n",
    "    mdl.add_constraints(z[i,j]>=y[i,r]+y[j,r]-1 for r in np.arange(R) for j in np.arange(P) for i in np.arange(P) if j>i) # Const 30 - If there is any runaway r for which y[i,r]=y[j,r]=1 then z[i,j]=1. If z[i,j]=0 then the planes i and j cannot land on the same runaway \n",
    "    \n",
    "    mdl.add_constraints(x[j]-x[i]>=separation_time[i,j]*z[j,i] - (sigma[j,i])*range_LT for i in np.arange(P) for j in np.arange(P) if j!=i)   # Const 12 - Separation time between plane i and plane j must be respected\n",
    "    # Const 31\n",
    "    # Const 33\n",
    "\n",
    "\n",
    "    cost_function = mdl.sum(beta[i] * h[i] + alpha[i] * g[i] for i in np.arange(P))\n",
    "\n",
    "    mdl.minimize(cost_function)\n",
    "    \n",
    "    mdl.print_information()\n",
    "\n",
    "    msol = mdl.solve()\n",
    "    assert msol is not None, \"model can't solve\"\n",
    "\n",
    "    return mdl"
   ]
  },
  {
   "cell_type": "code",
   "execution_count": 7,
   "id": "8c35fe1a",
   "metadata": {
    "colab": {
     "base_uri": "https://localhost:8080/"
    },
    "id": "8c35fe1a",
    "outputId": "ce73cd6d-55d7-4d4f-9349-41b5bda37366"
   },
   "outputs": [
    {
     "name": "stdout",
     "output_type": "stream",
     "text": [
      " number planes: 10\n",
      " freeze time: 10\n",
      " mixed data: [[54, 129, 155, 559, 10, 10], [99999, 3, 15, 15, 15, 15, 15, 15], [15, 15], [120, 195, 258, 744, 10, 10], [3, 99999, 15, 15, 15, 15, 15, 15], [15, 15], [14, 89, 98, 510, 30, 30], [15, 15, 99999, 8, 8, 8, 8, 8], [8, 8], [21, 96, 106, 521, 30, 30], [15, 15, 8, 99999, 8, 8, 8, 8], [8, 8], [35, 110, 123, 555, 30, 30], [15, 15, 8, 8, 99999, 8, 8, 8], [8, 8], [45, 120, 135, 576, 30, 30], [15, 15, 8, 8, 8, 99999, 8, 8], [8, 8], [49, 124, 138, 577, 30, 30], [15, 15, 8, 8, 8, 8, 99999, 8], [8, 8], [51, 126, 140, 573, 30, 30], [15, 15, 8, 8, 8, 8, 8, 99999], [8, 8], [60, 135, 150, 591, 30, 30], [15, 15, 8, 8, 8, 8, 8, 8], [99999, 8], [85, 160, 180, 657, 30, 30], [15, 15, 8, 8, 8, 8, 8, 8], [8, 99999]]\n",
      " flight details: [[ 54. 129. 155. 559.  10.  10.]\n",
      " [120. 195. 258. 744.  10.  10.]\n",
      " [ 14.  89.  98. 510.  30.  30.]\n",
      " [ 21.  96. 106. 521.  30.  30.]\n",
      " [ 35. 110. 123. 555.  30.  30.]\n",
      " [ 45. 120. 135. 576.  30.  30.]\n",
      " [ 49. 124. 138. 577.  30.  30.]\n",
      " [ 51. 126. 140. 573.  30.  30.]\n",
      " [ 60. 135. 150. 591.  30.  30.]\n",
      " [ 85. 160. 180. 657.  30.  30.]]\n",
      " separation time: [[9.9999e+04 3.0000e+00 1.5000e+01 1.5000e+01 1.5000e+01 1.5000e+01\n",
      "  1.5000e+01 1.5000e+01 1.5000e+01 1.5000e+01]\n",
      " [3.0000e+00 9.9999e+04 1.5000e+01 1.5000e+01 1.5000e+01 1.5000e+01\n",
      "  1.5000e+01 1.5000e+01 1.5000e+01 1.5000e+01]\n",
      " [1.5000e+01 1.5000e+01 9.9999e+04 8.0000e+00 8.0000e+00 8.0000e+00\n",
      "  8.0000e+00 8.0000e+00 8.0000e+00 8.0000e+00]\n",
      " [1.5000e+01 1.5000e+01 8.0000e+00 9.9999e+04 8.0000e+00 8.0000e+00\n",
      "  8.0000e+00 8.0000e+00 8.0000e+00 8.0000e+00]\n",
      " [1.5000e+01 1.5000e+01 8.0000e+00 8.0000e+00 9.9999e+04 8.0000e+00\n",
      "  8.0000e+00 8.0000e+00 8.0000e+00 8.0000e+00]\n",
      " [1.5000e+01 1.5000e+01 8.0000e+00 8.0000e+00 8.0000e+00 9.9999e+04\n",
      "  8.0000e+00 8.0000e+00 8.0000e+00 8.0000e+00]\n",
      " [1.5000e+01 1.5000e+01 8.0000e+00 8.0000e+00 8.0000e+00 8.0000e+00\n",
      "  9.9999e+04 8.0000e+00 8.0000e+00 8.0000e+00]\n",
      " [1.5000e+01 1.5000e+01 8.0000e+00 8.0000e+00 8.0000e+00 8.0000e+00\n",
      "  8.0000e+00 9.9999e+04 8.0000e+00 8.0000e+00]\n",
      " [1.5000e+01 1.5000e+01 8.0000e+00 8.0000e+00 8.0000e+00 8.0000e+00\n",
      "  8.0000e+00 8.0000e+00 9.9999e+04 8.0000e+00]\n",
      " [1.5000e+01 1.5000e+01 8.0000e+00 8.0000e+00 8.0000e+00 8.0000e+00\n",
      "  8.0000e+00 8.0000e+00 8.0000e+00 9.9999e+04]]\n",
      "Model: Scheduling Aircraft Landing - Multi Runaway Static Case\n",
      " - number of variables: 250\n",
      "   - binary=220, integer=0, continuous=30\n",
      " - number of constraints: 415\n",
      "   - linear=415\n",
      " - parameters: defaults\n",
      " - objective: minimize\n",
      " - problem type is: MILP\n",
      "* model Scheduling Aircraft Landing - Multi Runaway Static Case solved with objective = 3050.000\n",
      "objective: 3050.000\n",
      "status: OPTIMAL_SOLUTION(2)\n",
      "  alpha_5=3.000\n",
      "  beta_0=5.000\n",
      "  beta_2=97.000\n",
      "  x_0=160.000\n",
      "  x_1=258.000\n",
      "  x_2=195.000\n",
      "  x_3=106.000\n",
      "  x_4=123.000\n",
      "  x_5=132.000\n",
      "  x_6=138.000\n",
      "  x_7=140.000\n",
      "  x_8=150.000\n",
      "  x_9=180.000\n",
      "  sigma_0_1=1\n",
      "  sigma_0_2=1\n",
      "  sigma_0_9=1\n",
      "  sigma_2_1=1\n",
      "  sigma_3_0=1\n",
      "  sigma_3_1=1\n",
      "  sigma_3_2=1\n",
      "  sigma_3_4=1\n",
      "  sigma_3_5=1\n",
      "  sigma_3_6=1\n",
      "  sigma_3_7=1\n",
      "  sigma_3_8=1\n",
      "  sigma_3_9=1\n",
      "  sigma_4_0=1\n",
      "  sigma_4_1=1\n",
      "  sigma_4_2=1\n",
      "  sigma_4_5=1\n",
      "  sigma_4_6=1\n",
      "  sigma_4_7=1\n",
      "  sigma_4_8=1\n",
      "  sigma_4_9=1\n",
      "  sigma_5_0=1\n",
      "  sigma_5_1=1\n",
      "  sigma_5_2=1\n",
      "  sigma_5_6=1\n",
      "  sigma_5_7=1\n",
      "  sigma_5_8=1\n",
      "  sigma_5_9=1\n",
      "  sigma_6_0=1\n",
      "  sigma_6_1=1\n",
      "  sigma_6_2=1\n",
      "  sigma_6_7=1\n",
      "  sigma_6_8=1\n",
      "  sigma_6_9=1\n",
      "  sigma_7_0=1\n",
      "  sigma_7_1=1\n",
      "  sigma_7_2=1\n",
      "  sigma_7_8=1\n",
      "  sigma_7_9=1\n",
      "  sigma_8_0=1\n",
      "  sigma_8_1=1\n",
      "  sigma_8_2=1\n",
      "  sigma_8_9=1\n",
      "  sigma_9_1=1\n",
      "  sigma_9_2=1\n",
      "  y_0_1=1\n",
      "  y_1_0=1\n",
      "  y_2_0=1\n",
      "  y_3_0=1\n",
      "  y_4_0=1\n",
      "  y_5_0=1\n",
      "  y_6_1=1\n",
      "  y_7_0=1\n",
      "  y_8_0=1\n",
      "  y_9_0=1\n",
      "  z_0_1=1\n",
      "  z_0_2=1\n",
      "  z_0_3=1\n",
      "  z_0_4=1\n",
      "  z_0_5=1\n",
      "  z_0_6=1\n",
      "  z_0_7=1\n",
      "  z_0_9=1\n",
      "  z_1_0=1\n",
      "  z_1_2=1\n",
      "  z_1_3=1\n",
      "  z_1_4=1\n",
      "  z_1_5=1\n",
      "  z_1_6=1\n",
      "  z_1_7=1\n",
      "  z_1_8=1\n",
      "  z_1_9=1\n",
      "  z_2_0=1\n",
      "  z_2_1=1\n",
      "  z_2_3=1\n",
      "  z_2_4=1\n",
      "  z_2_5=1\n",
      "  z_2_6=1\n",
      "  z_2_7=1\n",
      "  z_2_8=1\n",
      "  z_2_9=1\n",
      "  z_3_0=1\n",
      "  z_3_1=1\n",
      "  z_3_2=1\n",
      "  z_3_4=1\n",
      "  z_3_5=1\n",
      "  z_3_6=1\n",
      "  z_3_7=1\n",
      "  z_3_8=1\n",
      "  z_3_9=1\n",
      "  z_4_0=1\n",
      "  z_4_1=1\n",
      "  z_4_2=1\n",
      "  z_4_3=1\n",
      "  z_4_5=1\n",
      "  z_4_6=1\n",
      "  z_4_7=1\n",
      "  z_4_8=1\n",
      "  z_4_9=1\n",
      "  z_5_0=1\n",
      "  z_5_1=1\n",
      "  z_5_2=1\n",
      "  z_5_3=1\n",
      "  z_5_4=1\n",
      "  z_5_7=1\n",
      "  z_5_8=1\n",
      "  z_5_9=1\n",
      "  z_6_0=1\n",
      "  z_6_1=1\n",
      "  z_6_2=1\n",
      "  z_6_3=1\n",
      "  z_6_4=1\n",
      "  z_6_8=1\n",
      "  z_6_9=1\n",
      "  z_7_0=1\n",
      "  z_7_1=1\n",
      "  z_7_2=1\n",
      "  z_7_3=1\n",
      "  z_7_4=1\n",
      "  z_7_5=1\n",
      "  z_7_8=1\n",
      "  z_7_9=1\n",
      "  z_8_1=1\n",
      "  z_8_2=1\n",
      "  z_8_3=1\n",
      "  z_8_4=1\n",
      "  z_8_5=1\n",
      "  z_8_6=1\n",
      "  z_8_7=1\n",
      "  z_8_9=1\n",
      "  z_9_0=1\n",
      "  z_9_1=1\n",
      "  z_9_2=1\n",
      "  z_9_3=1\n",
      "  z_9_4=1\n",
      "  z_9_5=1\n",
      "  z_9_6=1\n",
      "  z_9_7=1\n",
      "  z_9_8=1\n"
     ]
    }
   ],
   "source": [
    "file_name = \"./airland1.txt\"\n",
    "R = 2\n",
    "\n",
    "mdl_ = MIP_model(file_name, R)\n",
    "mdl_.report()\n",
    "mdl_.print_solution()"
   ]
  },
  {
   "cell_type": "code",
   "execution_count": 8,
   "id": "wjsTUijZ9GmU",
   "metadata": {
    "colab": {
     "base_uri": "https://localhost:8080/"
    },
    "id": "wjsTUijZ9GmU",
    "outputId": "d2b766af-59b5-4237-bd3b-dea3fb173864"
   },
   "outputs": [
    {
     "name": "stdout",
     "output_type": "stream",
     "text": [
      "Looking in indexes: https://pypi.org/simple, https://us-python.pkg.dev/colab-wheels/public/simple/\n",
      "Collecting ortools\n",
      "  Downloading ortools-9.5.2237-cp38-cp38-manylinux_2_17_x86_64.manylinux2014_x86_64.whl (16.3 MB)\n",
      "\u001b[2K     \u001b[90m━━━━━━━━━━━━━━━━━━━━━━━━━━━━━━━━━━━━━━━━\u001b[0m \u001b[32m16.3/16.3 MB\u001b[0m \u001b[31m82.7 MB/s\u001b[0m eta \u001b[36m0:00:00\u001b[0m\n",
      "\u001b[?25hRequirement already satisfied: numpy>=1.13.3 in /usr/local/lib/python3.8/dist-packages (from ortools) (1.21.6)\n",
      "Requirement already satisfied: absl-py>=0.13 in /usr/local/lib/python3.8/dist-packages (from ortools) (1.3.0)\n",
      "Collecting protobuf>=4.21.5\n",
      "  Downloading protobuf-4.21.12-cp37-abi3-manylinux2014_x86_64.whl (409 kB)\n",
      "\u001b[2K     \u001b[90m━━━━━━━━━━━━━━━━━━━━━━━━━━━━━━━━━━━━━━\u001b[0m \u001b[32m409.8/409.8 KB\u001b[0m \u001b[31m44.6 MB/s\u001b[0m eta \u001b[36m0:00:00\u001b[0m\n",
      "\u001b[?25hInstalling collected packages: protobuf, ortools\n",
      "  Attempting uninstall: protobuf\n",
      "    Found existing installation: protobuf 3.19.6\n",
      "    Uninstalling protobuf-3.19.6:\n",
      "      Successfully uninstalled protobuf-3.19.6\n",
      "\u001b[31mERROR: pip's dependency resolver does not currently take into account all the packages that are installed. This behaviour is the source of the following dependency conflicts.\n",
      "tensorflow 2.9.2 requires protobuf<3.20,>=3.9.2, but you have protobuf 4.21.12 which is incompatible.\n",
      "tensorflow-metadata 1.12.0 requires protobuf<4,>=3.13, but you have protobuf 4.21.12 which is incompatible.\n",
      "tensorboard 2.9.1 requires protobuf<3.20,>=3.9.2, but you have protobuf 4.21.12 which is incompatible.\u001b[0m\u001b[31m\n",
      "\u001b[0mSuccessfully installed ortools-9.5.2237 protobuf-4.21.12\n"
     ]
    }
   ],
   "source": [
    "!pip install ortools"
   ]
  },
  {
   "cell_type": "code",
   "execution_count": 51,
   "id": "0GfqCl_iWvfT",
   "metadata": {
    "id": "0GfqCl_iWvfT"
   },
   "outputs": [],
   "source": [
    "def read_datafiles_cp(file):\n",
    "    with open(file, 'r') as data:\n",
    "        data_lines = data.readlines()\n",
    "        number_planes = int(data_lines[0].split()[0])\n",
    "        freeze_time =  int(data_lines[0].split()[1])\n",
    "        mixed_data = [line.split() for line in data_lines[1:] if not line.isspace()]\n",
    "        mixed_data = [[(float(j)) for j in i] for i in mixed_data]\n",
    "        \n",
    "        flight_details = np.empty([0,6],dtype=float)\n",
    "        separation_time = np.empty([0,number_planes],dtype=float)\n",
    "        \n",
    "        flag = 0\n",
    "       \n",
    "        for element in mixed_data:\n",
    "            if flag == 0: # flight details\n",
    "                flight_details = np.vstack([flight_details, np.array(element)])\n",
    "                flag = 1\n",
    "                element_final = []\n",
    "            else:  # separation_times\n",
    "                element_final.extend(element)\n",
    "                if len(element_final) == number_planes:\n",
    "                    separation_time = np.vstack([separation_time, np.array(element_final)])\n",
    "                    flag = 0\n",
    "\n",
    "        minimum = min(flight_details[:,1])\n",
    "        maximum = max(flight_details[:,3])\n",
    "        num_periods = int(minimum % 10)\n",
    "        int_size = maximum//num_periods\n",
    "        period_constraints = []\n",
    "\n",
    "        x = (0,0)\n",
    "        lst = list(x)\n",
    "        for i in range(num_periods):\n",
    "          lst[0], lst[1] = int_size * i, int_size * (i+1)\n",
    "          x = tuple(lst)\n",
    "          period_constraints.append(x)\n",
    "\n",
    "                \n",
    "        print(f\" number planes: {number_planes}\")\n",
    "        print(f\" num_periods: {num_periods}\")\n",
    "        print(f\" flight details: {flight_details}\")\n",
    "        print(f\" period_constraints: {period_constraints}\")\n",
    "    \n",
    "    return number_planes, num_periods, flight_details, period_constraints"
   ]
  },
  {
   "cell_type": "code",
   "execution_count": 52,
   "id": "1AG34FjbYBTX",
   "metadata": {
    "colab": {
     "base_uri": "https://localhost:8080/"
    },
    "id": "1AG34FjbYBTX",
    "outputId": "105b99ad-fbce-4d5a-8b66-6b1bb46c0970"
   },
   "outputs": [
    {
     "name": "stdout",
     "output_type": "stream",
     "text": [
      " number planes: 10\n",
      " num_periods: 9\n",
      " flight details: [[ 54. 129. 155. 559.  10.  10.]\n",
      " [120. 195. 258. 744.  10.  10.]\n",
      " [ 14.  89.  98. 510.  30.  30.]\n",
      " [ 21.  96. 106. 521.  30.  30.]\n",
      " [ 35. 110. 123. 555.  30.  30.]\n",
      " [ 45. 120. 135. 576.  30.  30.]\n",
      " [ 49. 124. 138. 577.  30.  30.]\n",
      " [ 51. 126. 140. 573.  30.  30.]\n",
      " [ 60. 135. 150. 591.  30.  30.]\n",
      " [ 85. 160. 180. 657.  30.  30.]]\n",
      " period_constraints: [(0.0, 82.0), (82.0, 164.0), (164.0, 246.0), (246.0, 328.0), (328.0, 410.0), (410.0, 492.0), (492.0, 574.0), (574.0, 656.0), (656.0, 738.0)]\n"
     ]
    },
    {
     "data": {
      "text/plain": [
       "(10, 9, array([[ 54., 129., 155., 559.,  10.,  10.],\n",
       "        [120., 195., 258., 744.,  10.,  10.],\n",
       "        [ 14.,  89.,  98., 510.,  30.,  30.],\n",
       "        [ 21.,  96., 106., 521.,  30.,  30.],\n",
       "        [ 35., 110., 123., 555.,  30.,  30.],\n",
       "        [ 45., 120., 135., 576.,  30.,  30.],\n",
       "        [ 49., 124., 138., 577.,  30.,  30.],\n",
       "        [ 51., 126., 140., 573.,  30.,  30.],\n",
       "        [ 60., 135., 150., 591.,  30.,  30.],\n",
       "        [ 85., 160., 180., 657.,  30.,  30.]]), [(0.0, 82.0),\n",
       "  (82.0, 164.0),\n",
       "  (164.0, 246.0),\n",
       "  (246.0, 328.0),\n",
       "  (328.0, 410.0),\n",
       "  (410.0, 492.0),\n",
       "  (492.0, 574.0),\n",
       "  (574.0, 656.0),\n",
       "  (656.0, 738.0)])"
      ]
     },
     "execution_count": 52,
     "metadata": {},
     "output_type": "execute_result"
    }
   ],
   "source": [
    "read_datafiles_cp(\"./airland1.txt\")"
   ]
  },
  {
   "cell_type": "code",
   "execution_count": 57,
   "id": "0derScRY9MF4",
   "metadata": {
    "id": "0derScRY9MF4"
   },
   "outputs": [],
   "source": [
    "def CP_model(file_name,R):\n",
    "  P, freeze_time, flight_details, separation_time = read_datafiles(file_name)\n",
    "  # Create variables\n",
    "  alpha = {}\n",
    "  beta = {}\n",
    "  x = {}\n",
    "  sigma = {}\n",
    "  y = {}\n",
    "  z = {}\n",
    "\n",
    "  E = flight_details[:,1]  #earliest landing time,\n",
    "  T = flight_details[:,2]  #target landing time,\n",
    "  L = flight_details[:,3]  #latest landing time,\n",
    "  g = flight_details[:,4]  #penalty cost per unit of time for landing before target,\n",
    "  h = flight_details[:,5]  #penalty cost per unit of time for landing after target\n",
    "  range_LT = max(flight_details[:,3]) - min(flight_details[:,1]) #landing range time\n",
    "  ij = [(i,j) for i in np.arange(P) for j in np.arange(P)]\n",
    "  ir = [(i, r) for i in np.arange(P) for r in np.arange(R)]\n",
    "\n",
    "  from docplex.mp.model import Model # ELE AQUI TINHA docplex.mp.model, troquei para cp porque acho que é este o modulo para CP\n",
    "\n",
    "  # Create the model\n",
    "  mdl = Model(\"aircraft_landing_problem\")\n",
    "\n",
    "  # Read in the data\n",
    "  num_aircrafts, num_periods, aircraft_data, period_constraints = read_datafiles_cp(file_name)\n",
    "\n",
    "  # Create variables\n",
    "  x = mdl.binary_var_matrix(num_aircrafts, num_periods, name=\"x\") # 1 if aircraft i lands in period j, 0 otherwise\n",
    "  s = mdl.continuous_var_matrix(num_aircrafts, num_periods, name=\"s\") # start time for aircraft i in period j\n",
    "  f = mdl.continuous_var_matrix(num_aircrafts, num_periods, name=\"f\") # finish time for aircraft i in period j\n",
    "\n",
    "  # Const 1 - An aircraft must land in exactly one period\n",
    "  for i in range(num_aircrafts):\n",
    "      mdl.add_constraint(mdl.sum(x[i, j] for j in range(num_periods)) == 1)\n",
    "\n",
    "  # Const 2 - If aircraft i lands in period j, then s[i,j] and f[i,j] must be within the bounds for that period\n",
    "  for i in range(num_aircrafts):\n",
    "      for j in range(num_periods):\n",
    "          mdl.add_constraint(s[i, j] >= period_constraints[j][0])\n",
    "          mdl.add_constraint(f[i, j] <= period_constraints[j][1])\n",
    "          mdl.add_constraint(s[i, j] <= f[i, j])\n",
    "          mdl.add_constraint(f[i, j] - s[i, j] <= aircraft_data[i][3])\n",
    "          mdl.add_constraint(s[i, j] - aircraft_data[i][1] >= 0)\n",
    "          mdl.add_constraint(aircraft_data[i][2] - f[i, j] >= 0)\n",
    "\n",
    "  # Const 3 - If aircraft i does not land in period j, then s[i,j] and f[i,j] must be zero\n",
    "  for i in range(num_aircrafts):\n",
    "      for j in range(num_periods):\n",
    "          mdl.add_constraint(s[i, j] == 0).iff(x[i, j] == 0)\n",
    "          mdl.add_constraint(f[i, j] == 0).iff(x[i, j] == 0)\n",
    "\n",
    "  # Const 4 - The finish time for aircraft i in period j must be equal to the start time plus the required landing time\n",
    "  for i in range(num_aircrafts):\n",
    "      for j in range(num_periods):\n",
    "          mdl.add_constraint(f[i, j] == s[i, j] + aircraft_data[i][4])\n",
    "\n",
    "  # Const 5 - If aircraft i lands before aircraft j in period k, then s[i,k] <= f[j,k]\n",
    "  for i in range(num_aircrafts):\n",
    "      for j in range(num_aircrafts):\n",
    "          if i != j:\n",
    "              for k in range(num_periods):\n",
    "                  mdl.add_constraint(s[i, k] <= f[j, k]).iff(x[i, k] + x[j, k] == 2)\n",
    "\n",
    "  # Const 6 - If aircraft i lands in the same period as aircraft j, then there must be a minimum separation time between them\n",
    "  for i in range(num_aircrafts):\n",
    "      for j in range(num_aircrafts):\n",
    "          if i != j:\n",
    "              for k in range(num_periods):\n",
    "                  mdl.add_constraint(f[i, k] - s[j, k] >= aircraft_data[i][5])\n",
    "\n",
    "  # Define the objective function\n",
    "  mdl.minimize(mdl.sum(x[i, j] * aircraft_data[i][6] for i in range(num_aircrafts) for j in range(num_periods)))\n",
    "\n",
    "  # Solve the model\n",
    "  mdl.solve()\n",
    "\n",
    "  # Print the solution\n",
    "  for i in range(num_aircrafts):\n",
    "      for j in range(num_periods):\n",
    "          if x[i, j].solution_value > 0:\n",
    "              print(\"Aircraft {} lands in period {} at start time {} and finish time {}\".format(i, j, s[i, j].solution_value, f[i, j].solution_value))\n",
    "\n",
    "\n",
    "\n"
   ]
  },
  {
   "cell_type": "code",
   "execution_count": 58,
   "id": "BVM8Wl2s-Uw8",
   "metadata": {
    "colab": {
     "base_uri": "https://localhost:8080/",
     "height": 1000
    },
    "id": "BVM8Wl2s-Uw8",
    "outputId": "36113f04-da42-419d-aa3a-17d31d385333"
   },
   "outputs": [
    {
     "name": "stdout",
     "output_type": "stream",
     "text": [
      " number planes: 10\n",
      " freeze time: 10\n",
      " mixed data: [[54, 129, 155, 559, 10, 10], [99999, 3, 15, 15, 15, 15, 15, 15], [15, 15], [120, 195, 258, 744, 10, 10], [3, 99999, 15, 15, 15, 15, 15, 15], [15, 15], [14, 89, 98, 510, 30, 30], [15, 15, 99999, 8, 8, 8, 8, 8], [8, 8], [21, 96, 106, 521, 30, 30], [15, 15, 8, 99999, 8, 8, 8, 8], [8, 8], [35, 110, 123, 555, 30, 30], [15, 15, 8, 8, 99999, 8, 8, 8], [8, 8], [45, 120, 135, 576, 30, 30], [15, 15, 8, 8, 8, 99999, 8, 8], [8, 8], [49, 124, 138, 577, 30, 30], [15, 15, 8, 8, 8, 8, 99999, 8], [8, 8], [51, 126, 140, 573, 30, 30], [15, 15, 8, 8, 8, 8, 8, 99999], [8, 8], [60, 135, 150, 591, 30, 30], [15, 15, 8, 8, 8, 8, 8, 8], [99999, 8], [85, 160, 180, 657, 30, 30], [15, 15, 8, 8, 8, 8, 8, 8], [8, 99999]]\n",
      " flight details: [[ 54. 129. 155. 559.  10.  10.]\n",
      " [120. 195. 258. 744.  10.  10.]\n",
      " [ 14.  89.  98. 510.  30.  30.]\n",
      " [ 21.  96. 106. 521.  30.  30.]\n",
      " [ 35. 110. 123. 555.  30.  30.]\n",
      " [ 45. 120. 135. 576.  30.  30.]\n",
      " [ 49. 124. 138. 577.  30.  30.]\n",
      " [ 51. 126. 140. 573.  30.  30.]\n",
      " [ 60. 135. 150. 591.  30.  30.]\n",
      " [ 85. 160. 180. 657.  30.  30.]]\n",
      " separation time: [[9.9999e+04 3.0000e+00 1.5000e+01 1.5000e+01 1.5000e+01 1.5000e+01\n",
      "  1.5000e+01 1.5000e+01 1.5000e+01 1.5000e+01]\n",
      " [3.0000e+00 9.9999e+04 1.5000e+01 1.5000e+01 1.5000e+01 1.5000e+01\n",
      "  1.5000e+01 1.5000e+01 1.5000e+01 1.5000e+01]\n",
      " [1.5000e+01 1.5000e+01 9.9999e+04 8.0000e+00 8.0000e+00 8.0000e+00\n",
      "  8.0000e+00 8.0000e+00 8.0000e+00 8.0000e+00]\n",
      " [1.5000e+01 1.5000e+01 8.0000e+00 9.9999e+04 8.0000e+00 8.0000e+00\n",
      "  8.0000e+00 8.0000e+00 8.0000e+00 8.0000e+00]\n",
      " [1.5000e+01 1.5000e+01 8.0000e+00 8.0000e+00 9.9999e+04 8.0000e+00\n",
      "  8.0000e+00 8.0000e+00 8.0000e+00 8.0000e+00]\n",
      " [1.5000e+01 1.5000e+01 8.0000e+00 8.0000e+00 8.0000e+00 9.9999e+04\n",
      "  8.0000e+00 8.0000e+00 8.0000e+00 8.0000e+00]\n",
      " [1.5000e+01 1.5000e+01 8.0000e+00 8.0000e+00 8.0000e+00 8.0000e+00\n",
      "  9.9999e+04 8.0000e+00 8.0000e+00 8.0000e+00]\n",
      " [1.5000e+01 1.5000e+01 8.0000e+00 8.0000e+00 8.0000e+00 8.0000e+00\n",
      "  8.0000e+00 9.9999e+04 8.0000e+00 8.0000e+00]\n",
      " [1.5000e+01 1.5000e+01 8.0000e+00 8.0000e+00 8.0000e+00 8.0000e+00\n",
      "  8.0000e+00 8.0000e+00 9.9999e+04 8.0000e+00]\n",
      " [1.5000e+01 1.5000e+01 8.0000e+00 8.0000e+00 8.0000e+00 8.0000e+00\n",
      "  8.0000e+00 8.0000e+00 8.0000e+00 9.9999e+04]]\n",
      " number planes: 10\n",
      " num_periods: 9\n",
      " flight details: [[ 54. 129. 155. 559.  10.  10.]\n",
      " [120. 195. 258. 744.  10.  10.]\n",
      " [ 14.  89.  98. 510.  30.  30.]\n",
      " [ 21.  96. 106. 521.  30.  30.]\n",
      " [ 35. 110. 123. 555.  30.  30.]\n",
      " [ 45. 120. 135. 576.  30.  30.]\n",
      " [ 49. 124. 138. 577.  30.  30.]\n",
      " [ 51. 126. 140. 573.  30.  30.]\n",
      " [ 60. 135. 150. 591.  30.  30.]\n",
      " [ 85. 160. 180. 657.  30.  30.]]\n",
      " period_constraints: [(0.0, 82.0), (82.0, 164.0), (164.0, 246.0), (246.0, 328.0), (328.0, 410.0), (410.0, 492.0), (492.0, 574.0), (574.0, 656.0), (656.0, 738.0)]\n"
     ]
    },
    {
     "ename": "AttributeError",
     "evalue": "ignored",
     "output_type": "error",
     "traceback": [
      "\u001b[0;31m---------------------------------------------------------------------------\u001b[0m",
      "\u001b[0;31mAttributeError\u001b[0m                            Traceback (most recent call last)",
      "\u001b[0;32m<ipython-input-58-0e0a87675a11>\u001b[0m in \u001b[0;36m<module>\u001b[0;34m\u001b[0m\n\u001b[1;32m      1\u001b[0m \u001b[0mfile_name\u001b[0m \u001b[0;34m=\u001b[0m \u001b[0;34m\"./airland1.txt\"\u001b[0m\u001b[0;34m\u001b[0m\u001b[0;34m\u001b[0m\u001b[0m\n\u001b[1;32m      2\u001b[0m \u001b[0mR\u001b[0m \u001b[0;34m=\u001b[0m \u001b[0;36m2\u001b[0m\u001b[0;34m\u001b[0m\u001b[0;34m\u001b[0m\u001b[0m\n\u001b[0;32m----> 3\u001b[0;31m \u001b[0mCP_model\u001b[0m\u001b[0;34m(\u001b[0m\u001b[0mfile_name\u001b[0m\u001b[0;34m,\u001b[0m \u001b[0mR\u001b[0m\u001b[0;34m)\u001b[0m\u001b[0;34m\u001b[0m\u001b[0;34m\u001b[0m\u001b[0m\n\u001b[0m",
      "\u001b[0;32m<ipython-input-57-8a05e4a38a13>\u001b[0m in \u001b[0;36mCP_model\u001b[0;34m(file_name, R)\u001b[0m\n\u001b[1;32m     48\u001b[0m   \u001b[0;32mfor\u001b[0m \u001b[0mi\u001b[0m \u001b[0;32min\u001b[0m \u001b[0mrange\u001b[0m\u001b[0;34m(\u001b[0m\u001b[0mnum_aircrafts\u001b[0m\u001b[0;34m)\u001b[0m\u001b[0;34m:\u001b[0m\u001b[0;34m\u001b[0m\u001b[0;34m\u001b[0m\u001b[0m\n\u001b[1;32m     49\u001b[0m       \u001b[0;32mfor\u001b[0m \u001b[0mj\u001b[0m \u001b[0;32min\u001b[0m \u001b[0mrange\u001b[0m\u001b[0;34m(\u001b[0m\u001b[0mnum_periods\u001b[0m\u001b[0;34m)\u001b[0m\u001b[0;34m:\u001b[0m\u001b[0;34m\u001b[0m\u001b[0;34m\u001b[0m\u001b[0m\n\u001b[0;32m---> 50\u001b[0;31m           \u001b[0mmdl\u001b[0m\u001b[0;34m.\u001b[0m\u001b[0madd_constraint\u001b[0m\u001b[0;34m(\u001b[0m\u001b[0ms\u001b[0m\u001b[0;34m[\u001b[0m\u001b[0mi\u001b[0m\u001b[0;34m,\u001b[0m \u001b[0mj\u001b[0m\u001b[0;34m]\u001b[0m \u001b[0;34m==\u001b[0m \u001b[0;36m0\u001b[0m\u001b[0;34m)\u001b[0m\u001b[0;34m.\u001b[0m\u001b[0miff\u001b[0m\u001b[0;34m(\u001b[0m\u001b[0mx\u001b[0m\u001b[0;34m[\u001b[0m\u001b[0mi\u001b[0m\u001b[0;34m,\u001b[0m \u001b[0mj\u001b[0m\u001b[0;34m]\u001b[0m \u001b[0;34m==\u001b[0m \u001b[0;36m0\u001b[0m\u001b[0;34m)\u001b[0m\u001b[0;34m\u001b[0m\u001b[0;34m\u001b[0m\u001b[0m\n\u001b[0m\u001b[1;32m     51\u001b[0m           \u001b[0mmdl\u001b[0m\u001b[0;34m.\u001b[0m\u001b[0madd_constraint\u001b[0m\u001b[0;34m(\u001b[0m\u001b[0mf\u001b[0m\u001b[0;34m[\u001b[0m\u001b[0mi\u001b[0m\u001b[0;34m,\u001b[0m \u001b[0mj\u001b[0m\u001b[0;34m]\u001b[0m \u001b[0;34m==\u001b[0m \u001b[0;36m0\u001b[0m\u001b[0;34m)\u001b[0m\u001b[0;34m.\u001b[0m\u001b[0miff\u001b[0m\u001b[0;34m(\u001b[0m\u001b[0mx\u001b[0m\u001b[0;34m[\u001b[0m\u001b[0mi\u001b[0m\u001b[0;34m,\u001b[0m \u001b[0mj\u001b[0m\u001b[0;34m]\u001b[0m \u001b[0;34m==\u001b[0m \u001b[0;36m0\u001b[0m\u001b[0;34m)\u001b[0m\u001b[0;34m\u001b[0m\u001b[0;34m\u001b[0m\u001b[0m\n\u001b[1;32m     52\u001b[0m \u001b[0;34m\u001b[0m\u001b[0m\n",
      "\u001b[0;31mAttributeError\u001b[0m: 'LinearConstraint' object has no attribute 'iff'"
     ]
    }
   ],
   "source": [
    "file_name = \"./airland1.txt\"\n",
    "R = 2\n",
    "CP_model(file_name, R)"
   ]
  },
  {
   "cell_type": "markdown",
   "id": "6bddaec6",
   "metadata": {
    "id": "6bddaec6"
   },
   "source": [
    "## Define the decision variables"
   ]
  },
  {
   "cell_type": "code",
   "execution_count": null,
   "id": "8fe576f6",
   "metadata": {
    "id": "8fe576f6"
   },
   "outputs": [],
   "source": []
  },
  {
   "cell_type": "markdown",
   "id": "d67ad333",
   "metadata": {
    "id": "d67ad333"
   },
   "source": [
    "## Define constraints"
   ]
  },
  {
   "cell_type": "code",
   "execution_count": null,
   "id": "abe63524",
   "metadata": {
    "id": "abe63524"
   },
   "outputs": [],
   "source": []
  },
  {
   "cell_type": "markdown",
   "id": "65aa7cfd",
   "metadata": {
    "id": "65aa7cfd"
   },
   "source": [
    "## Define the objective"
   ]
  },
  {
   "cell_type": "code",
   "execution_count": null,
   "id": "c0920e20",
   "metadata": {
    "id": "c0920e20",
    "outputId": "b4bd540f-ae76-4a20-ab8f-4fa969be0e4f"
   },
   "outputs": [],
   "source": []
  },
  {
   "cell_type": "code",
   "execution_count": null,
   "id": "cf519d69",
   "metadata": {
    "id": "cf519d69",
    "outputId": "8067687c-a070-4e8b-a183-94215185d26f"
   },
   "outputs": [],
   "source": []
  },
  {
   "cell_type": "code",
   "execution_count": null,
   "id": "95fe615c",
   "metadata": {
    "id": "95fe615c",
    "outputId": "ca49755a-f3f4-432e-d69d-2860e8b7cbeb"
   },
   "outputs": [],
   "source": []
  },
  {
   "cell_type": "code",
   "execution_count": null,
   "id": "a1a0eb4b",
   "metadata": {
    "id": "a1a0eb4b",
    "outputId": "b63643fd-150c-46b0-c49c-bf073143cc2f"
   },
   "outputs": [],
   "source": []
  },
  {
   "cell_type": "markdown",
   "id": "87d69afd",
   "metadata": {
    "id": "87d69afd"
   },
   "source": [
    "## Solve with decision optimization"
   ]
  }
 ],
 "metadata": {
  "colab": {
   "provenance": []
  },
  "kernelspec": {
   "display_name": "Python 3 (ipykernel)",
   "language": "python",
   "name": "python3"
  },
  "language_info": {
   "codemirror_mode": {
    "name": "ipython",
    "version": 3
   },
   "file_extension": ".py",
   "mimetype": "text/x-python",
   "name": "python",
   "nbconvert_exporter": "python",
   "pygments_lexer": "ipython3",
   "version": "3.9.12"
  },
  "vscode": {
   "interpreter": {
    "hash": "31f2aee4e71d21fbe5cf8b01ff0e069b9275f58929596ceb00d14d90e3e16cd6"
   }
  }
 },
 "nbformat": 4,
 "nbformat_minor": 5
}

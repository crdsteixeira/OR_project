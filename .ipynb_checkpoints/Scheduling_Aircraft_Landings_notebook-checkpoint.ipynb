{
 "cells": [
  {
   "cell_type": "markdown",
   "id": "0779a4e6",
   "metadata": {},
   "source": [
    "# Download the library"
   ]
  },
  {
   "cell_type": "code",
   "execution_count": null,
   "id": "7fb22978",
   "metadata": {},
   "outputs": [],
   "source": [
    "!pip install docplex"
   ]
  },
  {
   "cell_type": "code",
   "execution_count": 4,
   "id": "6118204a",
   "metadata": {},
   "outputs": [],
   "source": [
    "from docplex.cp.model import *"
   ]
  },
  {
   "cell_type": "markdown",
   "id": "535b1688",
   "metadata": {},
   "source": [
    "# Model the data"
   ]
  },
  {
   "cell_type": "markdown",
   "id": "0988da9d",
   "metadata": {},
   "source": [
    "The format of these data files is:\n",
    "number of planes (p), freeze time\n",
    "for each plane i (i=1,...,p):\n",
    "   appearance time, earliest landing time, target landing time,\n",
    "   latest landing time, penalty cost per unit of time for landing\n",
    "   before target, penalty cost per unit of time for landing\n",
    "   after target\n",
    "   for each plane j (j=1,...p): separation time required after \n",
    "                                i lands before j can land\n"
   ]
  },
  {
   "cell_type": "markdown",
   "id": "764c9b00",
   "metadata": {},
   "source": [
    "# Set up the prescriptive model"
   ]
  },
  {
   "cell_type": "code",
   "execution_count": null,
   "id": "222454cf",
   "metadata": {},
   "outputs": [],
   "source": []
  },
  {
   "cell_type": "markdown",
   "id": "c4fe3ec6",
   "metadata": {},
   "source": [
    "## Create CPO Model"
   ]
  },
  {
   "cell_type": "code",
   "execution_count": null,
   "id": "b3c2f4a8",
   "metadata": {},
   "outputs": [],
   "source": []
  },
  {
   "cell_type": "markdown",
   "id": "28a6c736",
   "metadata": {},
   "source": [
    "## Define the decision variables"
   ]
  },
  {
   "cell_type": "code",
   "execution_count": null,
   "id": "b4ad2251",
   "metadata": {},
   "outputs": [],
   "source": []
  },
  {
   "cell_type": "markdown",
   "id": "1d0b0b89",
   "metadata": {},
   "source": [
    "## Define constraints"
   ]
  },
  {
   "cell_type": "code",
   "execution_count": null,
   "id": "45eac5a7",
   "metadata": {},
   "outputs": [],
   "source": []
  },
  {
   "cell_type": "markdown",
   "id": "4324e2b7",
   "metadata": {},
   "source": [
    "## Define the objective"
   ]
  },
  {
   "cell_type": "code",
   "execution_count": null,
   "id": "c78561e2",
   "metadata": {},
   "outputs": [],
   "source": []
  },
  {
   "cell_type": "markdown",
   "id": "a01bbd84",
   "metadata": {},
   "source": [
    "## Solve with decision optimization"
   ]
  }
 ],
 "metadata": {
  "kernelspec": {
   "display_name": "Python 3 (ipykernel)",
   "language": "python",
   "name": "python3"
  },
  "language_info": {
   "codemirror_mode": {
    "name": "ipython",
    "version": 3
   },
   "file_extension": ".py",
   "mimetype": "text/x-python",
   "name": "python",
   "nbconvert_exporter": "python",
   "pygments_lexer": "ipython3",
   "version": "3.9.12"
  }
 },
 "nbformat": 4,
 "nbformat_minor": 5
}
